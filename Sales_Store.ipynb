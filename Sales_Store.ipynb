{
 "cells": [
  {
   "cell_type": "code",
   "execution_count": 0,
   "metadata": {
    "application/vnd.databricks.v1+cell": {
     "cellMetadata": {
      "byteLimit": 2048000,
      "rowLimit": 10000
     },
     "inputWidgets": {},
     "nuid": "d64d1584-d3b2-4d1a-aade-2ef320f80e2f",
     "showTitle": false,
     "title": ""
    }
   },
   "outputs": [],
   "source": [
    "from pyspark.sql.functions import *\n",
    "from pyspark.sql.types import *\n",
    "from pyspark.sql.window import *"
   ]
  },
  {
   "cell_type": "code",
   "execution_count": 0,
   "metadata": {
    "application/vnd.databricks.v1+cell": {
     "cellMetadata": {
      "byteLimit": 2048000,
      "rowLimit": 10000
     },
     "inputWidgets": {},
     "nuid": "8ae0da50-7e20-40d0-ac4c-252f8ad5a0f0",
     "showTitle": false,
     "title": ""
    }
   },
   "outputs": [
    {
     "output_type": "stream",
     "name": "stdout",
     "output_type": "stream",
     "text": [
      "+----------+----------+---------+-----------+-------+-----------------+---------------+------------+-----+--------+------+-----+\n|Order_Date|Ship_Date |Ship_Mode|Postal_Code|Region |Product_Reference|Category       |Sub_Category|Sales|Quantity|Profit|State|\n+----------+----------+---------+-----------+-------+-----------------+---------------+------------+-----+--------+------+-----+\n|2021-02-15|2021-02-20|Ground   |44104      |Midwest|OFF-TAP-10022901 |Office Supplies|Tape        |5    |1       |0.15  |OH   |\n|2021-02-15|2021-02-20|Ground   |44104      |Midwest|OFF-TAP-10023012 |Office Supplies|Tape        |5    |1       |0.15  |OH   |\n|2021-02-15|2021-02-20|Ground   |44104      |Midwest|OFF-TAP-10002828 |Office Supplies|Tape        |5    |1       |0.15  |OH   |\n|2021-02-15|2021-02-20|Ground   |44104      |Midwest|OFF-TAP-10022901 |Office Supplies|Tape        |5    |1       |0.15  |OH   |\n|2021-02-15|2021-02-20|Ground   |44104      |Midwest|OFF-TAP-10000482 |Office Supplies|Tape        |5    |1       |0.15  |OH   |\n+----------+----------+---------+-----------+-------+-----------------+---------------+------------+-----+--------+------+-----+\nonly showing top 5 rows\n\n"
     ]
    }
   ],
   "source": [
    "df=spark.read.format(\"csv\").option(\"header\",True).option(\"delimiter\",\",\").option(\"inferschema\",True).load(\"dbfs:/FileStore/tables/Sales/SalesStore\")\n",
    "df.show(5,False)"
   ]
  },
  {
   "cell_type": "markdown",
   "metadata": {
    "application/vnd.databricks.v1+cell": {
     "cellMetadata": {
      "byteLimit": 2048000,
      "rowLimit": 10000
     },
     "inputWidgets": {},
     "nuid": "f0499321-a13c-4f59-bf4c-e8c6dbb5fc7b",
     "showTitle": false,
     "title": ""
    }
   },
   "source": [
    "#Data Manuliplation Task"
   ]
  },
  {
   "cell_type": "code",
   "execution_count": 0,
   "metadata": {
    "application/vnd.databricks.v1+cell": {
     "cellMetadata": {
      "byteLimit": 2048000,
      "rowLimit": 10000
     },
     "inputWidgets": {},
     "nuid": "62d347a4-428b-4ed4-bbe7-8f1b10af0225",
     "showTitle": false,
     "title": ""
    }
   },
   "outputs": [
    {
     "output_type": "stream",
     "name": "stdout",
     "output_type": "stream",
     "text": [
      "+----------+----------+---------+-----------+-------+-----------------+---------------+------------+-----+--------+------+-----+-----------+\n|Order_Date|Ship_Date |Ship_Mode|Postal_Code|Region |Product_Reference|Category       |Sub_Category|Sales|Quantity|Profit|State|Order_Month|\n+----------+----------+---------+-----------+-------+-----------------+---------------+------------+-----+--------+------+-----+-----------+\n|2021-02-15|2021-02-20|Ground   |44104      |Midwest|OFF-TAP-10022901 |Office Supplies|Tape        |5    |1       |0.15  |OH   |February   |\n|2021-02-15|2021-02-20|Ground   |44104      |Midwest|OFF-TAP-10023012 |Office Supplies|Tape        |5    |1       |0.15  |OH   |February   |\n|2021-02-15|2021-02-20|Ground   |44104      |Midwest|OFF-TAP-10002828 |Office Supplies|Tape        |5    |1       |0.15  |OH   |February   |\n|2021-02-15|2021-02-20|Ground   |44104      |Midwest|OFF-TAP-10022901 |Office Supplies|Tape        |5    |1       |0.15  |OH   |February   |\n|2021-02-15|2021-02-20|Ground   |44104      |Midwest|OFF-TAP-10000482 |Office Supplies|Tape        |5    |1       |0.15  |OH   |February   |\n+----------+----------+---------+-----------+-------+-----------------+---------------+------------+-----+--------+------+-----+-----------+\nonly showing top 5 rows\n\n"
     ]
    }
   ],
   "source": [
    "# 1. Order_Month:\n",
    "#     Derivation: Extract the month from the Order_Date column.\n",
    "#     Example: If Order_Date is '2021-02-15', the derived column would be 'February'.\n",
    "df=df.withColumn(\"Order_Month\",date_format(df.Order_Date,\"MMMM\"))\n",
    "df.show(5,False)"
   ]
  },
  {
   "cell_type": "code",
   "execution_count": 0,
   "metadata": {
    "application/vnd.databricks.v1+cell": {
     "cellMetadata": {
      "byteLimit": 2048000,
      "rowLimit": 10000
     },
     "inputWidgets": {},
     "nuid": "aeb8b8ca-1d67-4431-ace0-e7fa051d20fe",
     "showTitle": false,
     "title": ""
    }
   },
   "outputs": [
    {
     "output_type": "stream",
     "name": "stdout",
     "output_type": "stream",
     "text": [
      "+----------+----------+---------+-----------+-------+-----------------+---------------+------------+-----+--------+------+-----+-----------+-----------------+\n|Order_Date|Ship_Date |Ship_Mode|Postal_Code|Region |Product_Reference|Category       |Sub_Category|Sales|Quantity|Profit|State|Order_Month|Shipping_Duration|\n+----------+----------+---------+-----------+-------+-----------------+---------------+------------+-----+--------+------+-----+-----------+-----------------+\n|2021-02-15|2021-02-20|Ground   |44104      |Midwest|OFF-TAP-10022901 |Office Supplies|Tape        |5    |1       |0.15  |OH   |February   |5 Days           |\n|2021-02-15|2021-02-20|Ground   |44104      |Midwest|OFF-TAP-10023012 |Office Supplies|Tape        |5    |1       |0.15  |OH   |February   |5 Days           |\n|2021-02-15|2021-02-20|Ground   |44104      |Midwest|OFF-TAP-10002828 |Office Supplies|Tape        |5    |1       |0.15  |OH   |February   |5 Days           |\n|2021-02-15|2021-02-20|Ground   |44104      |Midwest|OFF-TAP-10022901 |Office Supplies|Tape        |5    |1       |0.15  |OH   |February   |5 Days           |\n|2021-02-15|2021-02-20|Ground   |44104      |Midwest|OFF-TAP-10000482 |Office Supplies|Tape        |5    |1       |0.15  |OH   |February   |5 Days           |\n+----------+----------+---------+-----------+-------+-----------------+---------------+------------+-----+--------+------+-----+-----------+-----------------+\nonly showing top 5 rows\n\n"
     ]
    }
   ],
   "source": [
    "# 2. Shipping Duration:\n",
    "#     Derivation: Calculate the duration between Order_Date and Ship_Date.\n",
    "#     Example: If Order_Date is '2021-02-15' and Ship_Date is '2021-02-20', the derived column could be '5 days'.\n",
    "# df=df.withColumn(\"Shipping_Duration\",concat_ws(datediff(df.Ship_Date,df.Order_Date),lit(\"Days\")))\n",
    "df = df.withColumn(\"Shipping_Duration\", concat(datediff(df.Ship_Date, df.Order_Date),lit(\" Days\")))\n",
    "df.show(5,False)"
   ]
  },
  {
   "cell_type": "code",
   "execution_count": 0,
   "metadata": {
    "application/vnd.databricks.v1+cell": {
     "cellMetadata": {
      "byteLimit": 2048000,
      "rowLimit": 10000
     },
     "inputWidgets": {},
     "nuid": "f806fe37-bd9c-4aea-8471-dfab85a27fbc",
     "showTitle": false,
     "title": ""
    }
   },
   "outputs": [
    {
     "output_type": "stream",
     "name": "stdout",
     "output_type": "stream",
     "text": [
      "+----------+----------+---------+-----------+-------+-----------------+---------------+------------+-----+--------+------+-----+-----------+-----------------+------------------+\n|Order_Date|Ship_Date |Ship_Mode|Postal_Code|Region |Product_Reference|Category       |Sub_Category|Sales|Quantity|Profit|State|Order_Month|Shipping_Duration|Sales_Per_Quantity|\n+----------+----------+---------+-----------+-------+-----------------+---------------+------------+-----+--------+------+-----+-----------+-----------------+------------------+\n|2021-02-15|2021-02-20|Ground   |44104      |Midwest|OFF-TAP-10022901 |Office Supplies|Tape        |5    |1       |0.15  |OH   |February   |5 Days           |5.0               |\n|2021-02-15|2021-02-20|Ground   |44104      |Midwest|OFF-TAP-10023012 |Office Supplies|Tape        |5    |1       |0.15  |OH   |February   |5 Days           |5.0               |\n|2021-02-15|2021-02-20|Ground   |44104      |Midwest|OFF-TAP-10002828 |Office Supplies|Tape        |5    |1       |0.15  |OH   |February   |5 Days           |5.0               |\n|2021-02-15|2021-02-20|Ground   |44104      |Midwest|OFF-TAP-10022901 |Office Supplies|Tape        |5    |1       |0.15  |OH   |February   |5 Days           |5.0               |\n|2021-02-15|2021-02-20|Ground   |44104      |Midwest|OFF-TAP-10000482 |Office Supplies|Tape        |5    |1       |0.15  |OH   |February   |5 Days           |5.0               |\n+----------+----------+---------+-----------+-------+-----------------+---------------+------------+-----+--------+------+-----+-----------+-----------------+------------------+\nonly showing top 5 rows\n\n"
     ]
    }
   ],
   "source": [
    "# 3. Sales per Quantity:\n",
    "#     Derivation: Calculate the ratio of Sales to Quantity.\n",
    "#     Example: If Sales is 500 and Quantity is 2, the derived column would be 250 (Sales per Quantity)\n",
    "df=df.withColumn(\"Sales_Per_Quantity\",round((df.Sales/df.Quantity),2))\n",
    "df.show(5,False)"
   ]
  },
  {
   "cell_type": "code",
   "execution_count": 0,
   "metadata": {
    "application/vnd.databricks.v1+cell": {
     "cellMetadata": {
      "byteLimit": 2048000,
      "rowLimit": 10000
     },
     "inputWidgets": {},
     "nuid": "d0300fd1-b998-4756-be0b-a62ee15857a5",
     "showTitle": false,
     "title": ""
    }
   },
   "outputs": [
    {
     "output_type": "stream",
     "name": "stdout",
     "output_type": "stream",
     "text": [
      "+----------+----------+---------+-----------+-------+-----------------+---------------+------------+-----+--------+------+-----+-----------+-----------------+------------------+-------------+\n|Order_Date|Ship_Date |Ship_Mode|Postal_Code|Region |Product_Reference|Category       |Sub_Category|Sales|Quantity|Profit|State|Order_Month|Shipping_Duration|Sales_Per_Quantity|Profit_Margin|\n+----------+----------+---------+-----------+-------+-----------------+---------------+------------+-----+--------+------+-----+-----------+-----------------+------------------+-------------+\n|2021-02-15|2021-02-20|Ground   |44104      |Midwest|OFF-TAP-10022901 |Office Supplies|Tape        |5    |1       |0.15  |OH   |February   |5 Days           |5.0               |3.0          |\n|2021-02-15|2021-02-20|Ground   |44104      |Midwest|OFF-TAP-10023012 |Office Supplies|Tape        |5    |1       |0.15  |OH   |February   |5 Days           |5.0               |3.0          |\n|2021-02-15|2021-02-20|Ground   |44104      |Midwest|OFF-TAP-10002828 |Office Supplies|Tape        |5    |1       |0.15  |OH   |February   |5 Days           |5.0               |3.0          |\n|2021-02-15|2021-02-20|Ground   |44104      |Midwest|OFF-TAP-10022901 |Office Supplies|Tape        |5    |1       |0.15  |OH   |February   |5 Days           |5.0               |3.0          |\n|2021-02-15|2021-02-20|Ground   |44104      |Midwest|OFF-TAP-10000482 |Office Supplies|Tape        |5    |1       |0.15  |OH   |February   |5 Days           |5.0               |3.0          |\n+----------+----------+---------+-----------+-------+-----------------+---------------+------------+-----+--------+------+-----+-----------+-----------------+------------------+-------------+\nonly showing top 5 rows\n\n"
     ]
    }
   ],
   "source": [
    "# 4. Profit Margin:\n",
    "#     Derivation: Calculate the percentage profit margin based on Profit and Sales.\n",
    "#     Example: If Profit is 10 and Sales is 500, the derived column could be 2% (Profit Margin).\n",
    "df=df.withColumn(\"Profit_Margin\",round((df.Profit/df.Sales)*100,2))\n",
    "df.show(5,False)"
   ]
  },
  {
   "cell_type": "code",
   "execution_count": 0,
   "metadata": {
    "application/vnd.databricks.v1+cell": {
     "cellMetadata": {
      "byteLimit": 2048000,
      "rowLimit": 10000
     },
     "inputWidgets": {},
     "nuid": "90a28d96-acd8-4755-b096-0f663593a8fc",
     "showTitle": false,
     "title": ""
    }
   },
   "outputs": [
    {
     "output_type": "stream",
     "name": "stdout",
     "output_type": "stream",
     "text": [
      "+----------+----------+---------+-----------+-------+-----------------+---------------+------------+-----+--------+------+-----+-----------+-----------------+------------------+-------------+--------------------+\n|Order_Date|Ship_Date |Ship_Mode|Postal_Code|Region |Product_Reference|Category       |Sub_Category|Sales|Quantity|Profit|State|Order_Month|Shipping_Duration|Sales_Per_Quantity|Profit_Margin|Year_from_Order_Date|\n+----------+----------+---------+-----------+-------+-----------------+---------------+------------+-----+--------+------+-----+-----------+-----------------+------------------+-------------+--------------------+\n|2021-02-15|2021-02-20|Ground   |44104      |Midwest|OFF-TAP-10022901 |Office Supplies|Tape        |5    |1       |0.15  |OH   |February   |5 Days           |5.0               |3.0          |2021                |\n|2021-02-15|2021-02-20|Ground   |44104      |Midwest|OFF-TAP-10023012 |Office Supplies|Tape        |5    |1       |0.15  |OH   |February   |5 Days           |5.0               |3.0          |2021                |\n|2021-02-15|2021-02-20|Ground   |44104      |Midwest|OFF-TAP-10002828 |Office Supplies|Tape        |5    |1       |0.15  |OH   |February   |5 Days           |5.0               |3.0          |2021                |\n|2021-02-15|2021-02-20|Ground   |44104      |Midwest|OFF-TAP-10022901 |Office Supplies|Tape        |5    |1       |0.15  |OH   |February   |5 Days           |5.0               |3.0          |2021                |\n|2021-02-15|2021-02-20|Ground   |44104      |Midwest|OFF-TAP-10000482 |Office Supplies|Tape        |5    |1       |0.15  |OH   |February   |5 Days           |5.0               |3.0          |2021                |\n+----------+----------+---------+-----------+-------+-----------------+---------------+------------+-----+--------+------+-----+-----------+-----------------+------------------+-------------+--------------------+\nonly showing top 5 rows\n\n"
     ]
    }
   ],
   "source": [
    "# 5. Year from Order Date:\n",
    "#     Derivation: Extract the year from the Order_Date column.\n",
    "#     Example: If Order_Date is '2021-02-15', the derived column would be '2021'.\n",
    "\n",
    "df=df.withColumn(\"Year_from_Order_Date\",date_format(df.Order_Date,\"yyyy\"))\n",
    "df.show(5,False)"
   ]
  },
  {
   "cell_type": "code",
   "execution_count": 0,
   "metadata": {
    "application/vnd.databricks.v1+cell": {
     "cellMetadata": {
      "byteLimit": 2048000,
      "rowLimit": 10000
     },
     "inputWidgets": {},
     "nuid": "173675ae-ede9-4e2a-885a-fc39e5f109eb",
     "showTitle": false,
     "title": ""
    }
   },
   "outputs": [
    {
     "output_type": "stream",
     "name": "stdout",
     "output_type": "stream",
     "text": [
      "+----------+----------+---------+-----------+-------+-----------------+---------------+------------+-----+--------+------+-----+-----------+-----------------+------------------+-------------+--------------------+--------------+\n|Order_Date|Ship_Date |Ship_Mode|Postal_Code|Region |Product_Reference|Category       |Sub_Category|Sales|Quantity|Profit|State|Order_Month|Shipping_Duration|Sales_Per_Quantity|Profit_Margin|Year_from_Order_Date|Order_Priority|\n+----------+----------+---------+-----------+-------+-----------------+---------------+------------+-----+--------+------+-----+-----------+-----------------+------------------+-------------+--------------------+--------------+\n|2021-02-15|2021-02-20|Ground   |44104      |Midwest|OFF-TAP-10022901 |Office Supplies|Tape        |5    |1       |0.15  |OH   |February   |5 Days           |5.0               |3.0          |2021                |Low           |\n|2021-02-15|2021-02-20|Ground   |44104      |Midwest|OFF-TAP-10023012 |Office Supplies|Tape        |5    |1       |0.15  |OH   |February   |5 Days           |5.0               |3.0          |2021                |Low           |\n|2021-02-15|2021-02-20|Ground   |44104      |Midwest|OFF-TAP-10002828 |Office Supplies|Tape        |5    |1       |0.15  |OH   |February   |5 Days           |5.0               |3.0          |2021                |Low           |\n|2021-02-15|2021-02-20|Ground   |44104      |Midwest|OFF-TAP-10022901 |Office Supplies|Tape        |5    |1       |0.15  |OH   |February   |5 Days           |5.0               |3.0          |2021                |Low           |\n|2021-02-15|2021-02-20|Ground   |44104      |Midwest|OFF-TAP-10000482 |Office Supplies|Tape        |5    |1       |0.15  |OH   |February   |5 Days           |5.0               |3.0          |2021                |Low           |\n+----------+----------+---------+-----------+-------+-----------------+---------------+------------+-----+--------+------+-----+-----------+-----------------+------------------+-------------+--------------------+--------------+\nonly showing top 5 rows\n\n"
     ]
    }
   ],
   "source": [
    "# 8. Order Priority:\n",
    "#     Derivation: Assign priority levels based on the Ship_Mode column (e.g., 'High', 'Medium', 'Low').\n",
    "#     Example: If Ship_Mode is 'Air', the derived column could be 'High'.\n",
    "df=df.withColumn(\"Order_Priority\",when(col(\"Ship_Mode\")==\"Air\",\"High\").when(df.Ship_Mode==\"Ground\",\"Low\").otherwise(\"Medium\"))\n",
    "df.show(5,False)"
   ]
  },
  {
   "cell_type": "code",
   "execution_count": 0,
   "metadata": {
    "application/vnd.databricks.v1+cell": {
     "cellMetadata": {
      "byteLimit": 2048000,
      "rowLimit": 10000
     },
     "inputWidgets": {},
     "nuid": "f396a3c3-569a-4620-a858-374bb253be94",
     "showTitle": false,
     "title": ""
    }
   },
   "outputs": [
    {
     "output_type": "stream",
     "name": "stdout",
     "output_type": "stream",
     "text": [
      "+----------+----------+---------+-----------+-------+-----------------+---------------+------------+-----+--------+------+-----+-----------+-----------------+------------------+-------------+--------------------+--------------+-----------+\n|Order_Date|Ship_Date |Ship_Mode|Postal_Code|Region |Product_Reference|Category       |Sub_Category|Sales|Quantity|Profit|State|Order_Month|Shipping_Duration|Sales_Per_Quantity|Profit_Margin|Year_from_Order_Date|Order_Priority|Order_Value|\n+----------+----------+---------+-----------+-------+-----------------+---------------+------------+-----+--------+------+-----+-----------+-----------------+------------------+-------------+--------------------+--------------+-----------+\n|2021-02-15|2021-02-20|Ground   |44104      |Midwest|OFF-TAP-10022901 |Office Supplies|Tape        |5    |1       |0.15  |OH   |February   |5 Days           |5.0               |3.0          |2021                |Low           |5          |\n|2021-02-15|2021-02-20|Ground   |44104      |Midwest|OFF-TAP-10023012 |Office Supplies|Tape        |5    |1       |0.15  |OH   |February   |5 Days           |5.0               |3.0          |2021                |Low           |5          |\n|2021-02-15|2021-02-20|Ground   |44104      |Midwest|OFF-TAP-10002828 |Office Supplies|Tape        |5    |1       |0.15  |OH   |February   |5 Days           |5.0               |3.0          |2021                |Low           |5          |\n|2021-02-15|2021-02-20|Ground   |44104      |Midwest|OFF-TAP-10022901 |Office Supplies|Tape        |5    |1       |0.15  |OH   |February   |5 Days           |5.0               |3.0          |2021                |Low           |5          |\n|2021-02-15|2021-02-20|Ground   |44104      |Midwest|OFF-TAP-10000482 |Office Supplies|Tape        |5    |1       |0.15  |OH   |February   |5 Days           |5.0               |3.0          |2021                |Low           |5          |\n+----------+----------+---------+-----------+-------+-----------------+---------------+------------+-----+--------+------+-----+-----------+-----------------+------------------+-------------+--------------------+--------------+-----------+\nonly showing top 5 rows\n\n"
     ]
    }
   ],
   "source": [
    "# 10. Order Value:\n",
    "#     Derivation: Calculate the total value of each order by multiplying Sales and Quantity.\n",
    "#     Example: If Sales is 200 and Quantity is 3, the derived column would be 600 (Order Value).\n",
    "df=df.withColumn(\"Order_Value\",df.Sales*df.Quantity)\n",
    "df.show(5,False)"
   ]
  },
  {
   "cell_type": "code",
   "execution_count": 0,
   "metadata": {
    "application/vnd.databricks.v1+cell": {
     "cellMetadata": {
      "byteLimit": 2048000,
      "rowLimit": 10000
     },
     "inputWidgets": {},
     "nuid": "47bd48c9-180d-4549-82b7-3c0b90de9df1",
     "showTitle": false,
     "title": ""
    }
   },
   "outputs": [
    {
     "output_type": "stream",
     "name": "stdout",
     "output_type": "stream",
     "text": [
      "+----------+----------+---------+-----------+------+-----------------+---------------+------------+-----+--------+------+-----+-----------+-----------------+------------------+-------------+--------------------+--------------+-----------+\n|Order_Date|Ship_Date |Ship_Mode|Postal_Code|Region|Product_Reference|Category       |Sub_Category|Sales|Quantity|Profit|State|Order_Month|Shipping_Duration|Sales_Per_Quantity|Profit_Margin|Year_from_Order_Date|Order_Priority|Order_Value|\n+----------+----------+---------+-----------+------+-----------------+---------------+------------+-----+--------+------+-----+-----------+-----------------+------------------+-------------+--------------------+--------------+-----------+\n|2021-02-15|2021-02-20|Ground   |44104      |West  |OFF-TAP-10022901 |Office Supplies|Tape        |5    |1       |0.15  |OH   |February   |5 Days           |5.0               |3.0          |2021                |Low           |5          |\n|2021-02-15|2021-02-20|Ground   |44104      |West  |OFF-TAP-10023012 |Office Supplies|Tape        |5    |1       |0.15  |OH   |February   |5 Days           |5.0               |3.0          |2021                |Low           |5          |\n|2021-02-15|2021-02-20|Ground   |44104      |West  |OFF-TAP-10002828 |Office Supplies|Tape        |5    |1       |0.15  |OH   |February   |5 Days           |5.0               |3.0          |2021                |Low           |5          |\n|2021-02-15|2021-02-20|Ground   |44104      |West  |OFF-TAP-10022901 |Office Supplies|Tape        |5    |1       |0.15  |OH   |February   |5 Days           |5.0               |3.0          |2021                |Low           |5          |\n|2021-02-15|2021-02-20|Ground   |44104      |West  |OFF-TAP-10000482 |Office Supplies|Tape        |5    |1       |0.15  |OH   |February   |5 Days           |5.0               |3.0          |2021                |Low           |5          |\n+----------+----------+---------+-----------+------+-----------------+---------------+------------+-----+--------+------+-----+-----------+-----------------+------------------+-------------+--------------------+--------------+-----------+\nonly showing top 5 rows\n\n"
     ]
    }
   ],
   "source": [
    "# Change the region value of all the Midwest to west\n",
    "df=df.withColumn(\"Region\",when(col(\"Region\")==\"Midwest\",\"West\").otherwise(col(\"Region\")))\n",
    "df.show(5,False)\n",
    "df.createOrReplaceTempView(\"a_df\")"
   ]
  },
  {
   "cell_type": "markdown",
   "metadata": {
    "application/vnd.databricks.v1+cell": {
     "cellMetadata": {
      "byteLimit": 2048000,
      "rowLimit": 10000
     },
     "inputWidgets": {},
     "nuid": "c8d35da0-887f-46c1-905c-909c5a39e835",
     "showTitle": false,
     "title": ""
    }
   },
   "source": [
    "# Data Analysis "
   ]
  },
  {
   "cell_type": "code",
   "execution_count": 0,
   "metadata": {
    "application/vnd.databricks.v1+cell": {
     "cellMetadata": {
      "byteLimit": 2048000,
      "rowLimit": 10000
     },
     "inputWidgets": {},
     "nuid": "9702102d-1816-49a4-8950-e244e028b63a",
     "showTitle": false,
     "title": ""
    }
   },
   "outputs": [
    {
     "output_type": "stream",
     "name": "stdout",
     "output_type": "stream",
     "text": [
      "+------------+-------------+--------------+\n|Sub_Category|Profit_Margin|Rank_Of_Orders|\n+------------+-------------+--------------+\n|Tape        |3.0          |1             |\n|Erasers     |3.0          |1             |\n|Staplers    |3.0          |1             |\n|Rulers      |3.0          |1             |\n|Scissors    |3.0          |1             |\n+------------+-------------+--------------+\nonly showing top 5 rows\n\n"
     ]
    }
   ],
   "source": [
    "# Question: Rank orders based on profit margin in descending order\n",
    "a_df=df.select(\"Sub_Category\",\"Profit_Margin\").withColumn(\"Rank_Of_Orders\",dense_rank().over(Window.orderBy(col(\"Profit_Margin\").desc()))).distinct()\n",
    "a_df.show(5,False)"
   ]
  },
  {
   "cell_type": "code",
   "execution_count": 0,
   "metadata": {
    "application/vnd.databricks.v1+cell": {
     "cellMetadata": {
      "byteLimit": 2048000,
      "implicitDf": true,
      "rowLimit": 10000
     },
     "inputWidgets": {},
     "nuid": "58b36120-d8fb-43f9-bcc4-5819fa2b192e",
     "showTitle": false,
     "title": ""
    }
   },
   "outputs": [
    {
     "output_type": "display_data",
     "data": {
      "text/html": [
       "<style scoped>\n",
       "  .table-result-container {\n",
       "    max-height: 300px;\n",
       "    overflow: auto;\n",
       "  }\n",
       "  table, th, td {\n",
       "    border: 1px solid black;\n",
       "    border-collapse: collapse;\n",
       "  }\n",
       "  th, td {\n",
       "    padding: 5px;\n",
       "  }\n",
       "  th {\n",
       "    text-align: left;\n",
       "  }\n",
       "</style><div class='table-result-container'><table class='table-result'><thead style='background-color: white'><tr><th>Sub_Category</th><th>Profit_Margin</th><th>Rank_Of_Orders</th></tr></thead><tbody><tr><td>Tape</td><td>3.0</td><td>1</td></tr><tr><td>Tape</td><td>3.0</td><td>1</td></tr><tr><td>Tape</td><td>3.0</td><td>1</td></tr><tr><td>Tape</td><td>3.0</td><td>1</td></tr><tr><td>Tape</td><td>3.0</td><td>1</td></tr><tr><td>Erasers</td><td>3.0</td><td>1</td></tr><tr><td>Erasers</td><td>3.0</td><td>1</td></tr><tr><td>Erasers</td><td>3.0</td><td>1</td></tr><tr><td>Erasers</td><td>3.0</td><td>1</td></tr><tr><td>Erasers</td><td>3.0</td><td>1</td></tr><tr><td>Staplers</td><td>3.0</td><td>1</td></tr><tr><td>Staplers</td><td>3.0</td><td>1</td></tr><tr><td>Staplers</td><td>3.0</td><td>1</td></tr><tr><td>Staplers</td><td>3.0</td><td>1</td></tr><tr><td>Staplers</td><td>3.0</td><td>1</td></tr><tr><td>Staplers</td><td>3.0</td><td>1</td></tr><tr><td>Rulers</td><td>3.0</td><td>1</td></tr><tr><td>Rulers</td><td>3.0</td><td>1</td></tr><tr><td>Rulers</td><td>3.0</td><td>1</td></tr><tr><td>Rulers</td><td>3.0</td><td>1</td></tr><tr><td>Rulers</td><td>3.0</td><td>1</td></tr><tr><td>Staplers</td><td>3.0</td><td>1</td></tr><tr><td>Staplers</td><td>3.0</td><td>1</td></tr><tr><td>Staplers</td><td>3.0</td><td>1</td></tr><tr><td>Staplers</td><td>3.0</td><td>1</td></tr><tr><td>Scissors</td><td>3.0</td><td>1</td></tr><tr><td>Scissors</td><td>3.0</td><td>1</td></tr><tr><td>Scissors</td><td>3.0</td><td>1</td></tr><tr><td>Scissors</td><td>3.0</td><td>1</td></tr><tr><td>Scissors</td><td>3.0</td><td>1</td></tr><tr><td>Scissors</td><td>3.0</td><td>1</td></tr><tr><td>Phones</td><td>2.0</td><td>2</td></tr><tr><td>Phones</td><td>2.0</td><td>2</td></tr><tr><td>Chairs</td><td>2.0</td><td>2</td></tr><tr><td>Chairs</td><td>2.0</td><td>2</td></tr><tr><td>Phones</td><td>2.0</td><td>2</td></tr><tr><td>Phones</td><td>2.0</td><td>2</td></tr><tr><td>Sofas</td><td>2.0</td><td>2</td></tr><tr><td>Sofas</td><td>2.0</td><td>2</td></tr><tr><td>Sofas</td><td>2.0</td><td>2</td></tr><tr><td>Sofas</td><td>2.0</td><td>2</td></tr><tr><td>Sofas</td><td>2.0</td><td>2</td></tr><tr><td>Sofas</td><td>2.0</td><td>2</td></tr><tr><td>Chairs</td><td>2.0</td><td>2</td></tr><tr><td>Chairs</td><td>2.0</td><td>2</td></tr><tr><td>Chairs</td><td>2.0</td><td>2</td></tr><tr><td>Chairs</td><td>2.0</td><td>2</td></tr><tr><td>Chairs</td><td>2.0</td><td>2</td></tr><tr><td>Paper</td><td>2.0</td><td>2</td></tr><tr><td>Paper</td><td>2.0</td><td>2</td></tr><tr><td>Paper</td><td>2.0</td><td>2</td></tr><tr><td>Paper</td><td>2.0</td><td>2</td></tr><tr><td>Paper</td><td>2.0</td><td>2</td></tr><tr><td>Paper</td><td>2.0</td><td>2</td></tr><tr><td>Tablets</td><td>2.0</td><td>2</td></tr><tr><td>Tablets</td><td>2.0</td><td>2</td></tr><tr><td>Tablets</td><td>2.0</td><td>2</td></tr><tr><td>Tablets</td><td>2.0</td><td>2</td></tr><tr><td>Tablets</td><td>2.0</td><td>2</td></tr><tr><td>Tablets</td><td>2.0</td><td>2</td></tr><tr><td>Speakers</td><td>2.0</td><td>2</td></tr><tr><td>Speakers</td><td>2.0</td><td>2</td></tr><tr><td>Speakers</td><td>2.0</td><td>2</td></tr><tr><td>Speakers</td><td>2.0</td><td>2</td></tr><tr><td>Speakers</td><td>2.0</td><td>2</td></tr><tr><td>Chairs</td><td>2.0</td><td>2</td></tr><tr><td>Chairs</td><td>2.0</td><td>2</td></tr><tr><td>Chairs</td><td>2.0</td><td>2</td></tr><tr><td>Chairs</td><td>2.0</td><td>2</td></tr><tr><td>Chairs</td><td>2.0</td><td>2</td></tr><tr><td>Chairs</td><td>2.0</td><td>2</td></tr><tr><td>Markers</td><td>2.0</td><td>2</td></tr><tr><td>Markers</td><td>2.0</td><td>2</td></tr><tr><td>Markers</td><td>2.0</td><td>2</td></tr><tr><td>Markers</td><td>2.0</td><td>2</td></tr><tr><td>Markers</td><td>2.0</td><td>2</td></tr><tr><td>Markers</td><td>2.0</td><td>2</td></tr><tr><td>Laptops</td><td>2.0</td><td>2</td></tr><tr><td>Laptops</td><td>2.0</td><td>2</td></tr><tr><td>Laptops</td><td>2.0</td><td>2</td></tr><tr><td>Laptops</td><td>2.0</td><td>2</td></tr><tr><td>Laptops</td><td>2.0</td><td>2</td></tr><tr><td>Laptops</td><td>2.0</td><td>2</td></tr><tr><td>Beds</td><td>2.0</td><td>2</td></tr><tr><td>Beds</td><td>2.0</td><td>2</td></tr><tr><td>Beds</td><td>2.0</td><td>2</td></tr><tr><td>Beds</td><td>2.0</td><td>2</td></tr><tr><td>Beds</td><td>2.0</td><td>2</td></tr><tr><td>Beds</td><td>2.0</td><td>2</td></tr><tr><td>Pens</td><td>2.0</td><td>2</td></tr><tr><td>Pens</td><td>2.0</td><td>2</td></tr><tr><td>Pens</td><td>2.0</td><td>2</td></tr><tr><td>Pens</td><td>2.0</td><td>2</td></tr><tr><td>Pens</td><td>2.0</td><td>2</td></tr><tr><td>Pens</td><td>2.0</td><td>2</td></tr><tr><td>Desks</td><td>2.0</td><td>2</td></tr><tr><td>Desks</td><td>2.0</td><td>2</td></tr><tr><td>Desks</td><td>2.0</td><td>2</td></tr><tr><td>Desks</td><td>2.0</td><td>2</td></tr><tr><td>Desks</td><td>2.0</td><td>2</td></tr><tr><td>Monitors</td><td>2.0</td><td>2</td></tr><tr><td>Monitors</td><td>2.0</td><td>2</td></tr><tr><td>Monitors</td><td>2.0</td><td>2</td></tr><tr><td>Monitors</td><td>2.0</td><td>2</td></tr><tr><td>Monitors</td><td>2.0</td><td>2</td></tr><tr><td>Monitors</td><td>2.0</td><td>2</td></tr><tr><td>Tables</td><td>2.0</td><td>2</td></tr><tr><td>Tables</td><td>2.0</td><td>2</td></tr><tr><td>Tables</td><td>2.0</td><td>2</td></tr><tr><td>Tables</td><td>2.0</td><td>2</td></tr><tr><td>Tables</td><td>2.0</td><td>2</td></tr><tr><td>Tables</td><td>2.0</td><td>2</td></tr><tr><td>Smartphones</td><td>2.0</td><td>2</td></tr><tr><td>Smartphones</td><td>2.0</td><td>2</td></tr><tr><td>Smartphones</td><td>2.0</td><td>2</td></tr><tr><td>Smartphones</td><td>2.0</td><td>2</td></tr><tr><td>Envelopes</td><td>2.0</td><td>2</td></tr><tr><td>Envelopes</td><td>2.0</td><td>2</td></tr><tr><td>Envelopes</td><td>2.0</td><td>2</td></tr><tr><td>Envelopes</td><td>2.0</td><td>2</td></tr><tr><td>Envelopes</td><td>2.0</td><td>2</td></tr><tr><td>Headphones</td><td>2.0</td><td>2</td></tr><tr><td>Headphones</td><td>2.0</td><td>2</td></tr><tr><td>Headphones</td><td>2.0</td><td>2</td></tr><tr><td>Headphones</td><td>2.0</td><td>2</td></tr><tr><td>Headphones</td><td>2.0</td><td>2</td></tr><tr><td>Headphones</td><td>2.0</td><td>2</td></tr><tr><td>Pencils</td><td>2.0</td><td>2</td></tr><tr><td>Pencils</td><td>2.0</td><td>2</td></tr><tr><td>Pencils</td><td>2.0</td><td>2</td></tr><tr><td>Pencils</td><td>2.0</td><td>2</td></tr><tr><td>Storage</td><td>2.0</td><td>2</td></tr><tr><td>Storage</td><td>2.0</td><td>2</td></tr><tr><td>Storage</td><td>2.0</td><td>2</td></tr><tr><td>Storage</td><td>2.0</td><td>2</td></tr><tr><td>Storage</td><td>2.0</td><td>2</td></tr><tr><td>Notebooks</td><td>2.0</td><td>2</td></tr><tr><td>Notebooks</td><td>2.0</td><td>2</td></tr><tr><td>Notebooks</td><td>2.0</td><td>2</td></tr><tr><td>Notebooks</td><td>2.0</td><td>2</td></tr><tr><td>Notebooks</td><td>2.0</td><td>2</td></tr><tr><td>Notebooks</td><td>2.0</td><td>2</td></tr><tr><td>Tables</td><td>2.0</td><td>2</td></tr><tr><td>Tables</td><td>2.0</td><td>2</td></tr><tr><td>Tables</td><td>2.0</td><td>2</td></tr><tr><td>Tables</td><td>2.0</td><td>2</td></tr><tr><td>Cameras</td><td>2.0</td><td>2</td></tr><tr><td>Cameras</td><td>2.0</td><td>2</td></tr><tr><td>Cameras</td><td>2.0</td><td>2</td></tr><tr><td>Cameras</td><td>2.0</td><td>2</td></tr><tr><td>Cameras</td><td>2.0</td><td>2</td></tr><tr><td>Bookcases</td><td>2.0</td><td>2</td></tr><tr><td>Bookcases</td><td>2.0</td><td>2</td></tr><tr><td>Bookcases</td><td>2.0</td><td>2</td></tr><tr><td>Bookcases</td><td>2.0</td><td>2</td></tr><tr><td>Bookcases</td><td>2.0</td><td>2</td></tr><tr><td>Bookcases</td><td>2.0</td><td>2</td></tr><tr><td>Laptops</td><td>2.0</td><td>2</td></tr><tr><td>Laptops</td><td>2.0</td><td>2</td></tr><tr><td>Laptops</td><td>2.0</td><td>2</td></tr><tr><td>Laptops</td><td>2.0</td><td>2</td></tr><tr><td>Glue</td><td>2.0</td><td>2</td></tr><tr><td>Glue</td><td>2.0</td><td>2</td></tr><tr><td>Glue</td><td>2.0</td><td>2</td></tr><tr><td>Glue</td><td>2.0</td><td>2</td></tr><tr><td>Glue</td><td>2.0</td><td>2</td></tr><tr><td>Smartwatches</td><td>2.0</td><td>2</td></tr><tr><td>Smartwatches</td><td>2.0</td><td>2</td></tr><tr><td>Smartwatches</td><td>2.0</td><td>2</td></tr><tr><td>Smartwatches</td><td>2.0</td><td>2</td></tr><tr><td>Smartwatches</td><td>2.0</td><td>2</td></tr><tr><td>Smartwatches</td><td>2.0</td><td>2</td></tr><tr><td>Notebooks</td><td>2.0</td><td>2</td></tr><tr><td>Notebooks</td><td>2.0</td><td>2</td></tr><tr><td>Notebooks</td><td>2.0</td><td>2</td></tr><tr><td>Notebooks</td><td>2.0</td><td>2</td></tr><tr><td>Outdoor Furniture</td><td>2.0</td><td>2</td></tr><tr><td>Outdoor Furniture</td><td>2.0</td><td>2</td></tr><tr><td>Outdoor Furniture</td><td>2.0</td><td>2</td></tr><tr><td>Outdoor Furniture</td><td>2.0</td><td>2</td></tr><tr><td>Outdoor Furniture</td><td>2.0</td><td>2</td></tr><tr><td>Bookcases</td><td>2.0</td><td>2</td></tr><tr><td>Bookcases</td><td>2.0</td><td>2</td></tr><tr><td>Bookcases</td><td>2.0</td><td>2</td></tr><tr><td>Bookcases</td><td>2.0</td><td>2</td></tr><tr><td>Accessories</td><td>2.0</td><td>2</td></tr><tr><td>Accessories</td><td>2.0</td><td>2</td></tr><tr><td>Accessories</td><td>2.0</td><td>2</td></tr><tr><td>Accessories</td><td>2.0</td><td>2</td></tr><tr><td>Accessories</td><td>2.0</td><td>2</td></tr><tr><td>Desks</td><td>2.0</td><td>2</td></tr><tr><td>Desks</td><td>2.0</td><td>2</td></tr><tr><td>Desks</td><td>2.0</td><td>2</td></tr><tr><td>Desks</td><td>2.0</td><td>2</td></tr><tr><td>Desks</td><td>2.0</td><td>2</td></tr><tr><td>Desks</td><td>2.0</td><td>2</td></tr><tr><td>Headphones</td><td>2.0</td><td>2</td></tr><tr><td>Headphones</td><td>2.0</td><td>2</td></tr><tr><td>Headphones</td><td>2.0</td><td>2</td></tr><tr><td>Headphones</td><td>2.0</td><td>2</td></tr><tr><td>Printers</td><td>2.0</td><td>2</td></tr><tr><td>Printers</td><td>2.0</td><td>2</td></tr><tr><td>Printers</td><td>2.0</td><td>2</td></tr><tr><td>Printers</td><td>2.0</td><td>2</td></tr><tr><td>Printers</td><td>2.0</td><td>2</td></tr><tr><td>Printers</td><td>2.0</td><td>2</td></tr><tr><td>Lighting</td><td>2.0</td><td>2</td></tr><tr><td>Lighting</td><td>2.0</td><td>2</td></tr><tr><td>Lighting</td><td>2.0</td><td>2</td></tr><tr><td>Lighting</td><td>2.0</td><td>2</td></tr><tr><td>Lighting</td><td>2.0</td><td>2</td></tr><tr><td>Printers</td><td>2.0</td><td>2</td></tr><tr><td>Printers</td><td>2.0</td><td>2</td></tr><tr><td>Printers</td><td>2.0</td><td>2</td></tr><tr><td>Printers</td><td>2.0</td><td>2</td></tr><tr><td>Printers</td><td>2.0</td><td>2</td></tr></tbody></table></div>"
      ]
     },
     "metadata": {
      "application/vnd.databricks.v1+output": {
       "addedWidgets": {},
       "aggData": [],
       "aggError": "",
       "aggOverflow": false,
       "aggSchema": [],
       "aggSeriesLimitReached": false,
       "aggType": "",
       "arguments": {},
       "columnCustomDisplayInfos": {},
       "data": [
        [
         "Tape",
         3.0,
         1
        ],
        [
         "Tape",
         3.0,
         1
        ],
        [
         "Tape",
         3.0,
         1
        ],
        [
         "Tape",
         3.0,
         1
        ],
        [
         "Tape",
         3.0,
         1
        ],
        [
         "Erasers",
         3.0,
         1
        ],
        [
         "Erasers",
         3.0,
         1
        ],
        [
         "Erasers",
         3.0,
         1
        ],
        [
         "Erasers",
         3.0,
         1
        ],
        [
         "Erasers",
         3.0,
         1
        ],
        [
         "Staplers",
         3.0,
         1
        ],
        [
         "Staplers",
         3.0,
         1
        ],
        [
         "Staplers",
         3.0,
         1
        ],
        [
         "Staplers",
         3.0,
         1
        ],
        [
         "Staplers",
         3.0,
         1
        ],
        [
         "Staplers",
         3.0,
         1
        ],
        [
         "Rulers",
         3.0,
         1
        ],
        [
         "Rulers",
         3.0,
         1
        ],
        [
         "Rulers",
         3.0,
         1
        ],
        [
         "Rulers",
         3.0,
         1
        ],
        [
         "Rulers",
         3.0,
         1
        ],
        [
         "Staplers",
         3.0,
         1
        ],
        [
         "Staplers",
         3.0,
         1
        ],
        [
         "Staplers",
         3.0,
         1
        ],
        [
         "Staplers",
         3.0,
         1
        ],
        [
         "Scissors",
         3.0,
         1
        ],
        [
         "Scissors",
         3.0,
         1
        ],
        [
         "Scissors",
         3.0,
         1
        ],
        [
         "Scissors",
         3.0,
         1
        ],
        [
         "Scissors",
         3.0,
         1
        ],
        [
         "Scissors",
         3.0,
         1
        ],
        [
         "Phones",
         2.0,
         2
        ],
        [
         "Phones",
         2.0,
         2
        ],
        [
         "Chairs",
         2.0,
         2
        ],
        [
         "Chairs",
         2.0,
         2
        ],
        [
         "Phones",
         2.0,
         2
        ],
        [
         "Phones",
         2.0,
         2
        ],
        [
         "Sofas",
         2.0,
         2
        ],
        [
         "Sofas",
         2.0,
         2
        ],
        [
         "Sofas",
         2.0,
         2
        ],
        [
         "Sofas",
         2.0,
         2
        ],
        [
         "Sofas",
         2.0,
         2
        ],
        [
         "Sofas",
         2.0,
         2
        ],
        [
         "Chairs",
         2.0,
         2
        ],
        [
         "Chairs",
         2.0,
         2
        ],
        [
         "Chairs",
         2.0,
         2
        ],
        [
         "Chairs",
         2.0,
         2
        ],
        [
         "Chairs",
         2.0,
         2
        ],
        [
         "Paper",
         2.0,
         2
        ],
        [
         "Paper",
         2.0,
         2
        ],
        [
         "Paper",
         2.0,
         2
        ],
        [
         "Paper",
         2.0,
         2
        ],
        [
         "Paper",
         2.0,
         2
        ],
        [
         "Paper",
         2.0,
         2
        ],
        [
         "Tablets",
         2.0,
         2
        ],
        [
         "Tablets",
         2.0,
         2
        ],
        [
         "Tablets",
         2.0,
         2
        ],
        [
         "Tablets",
         2.0,
         2
        ],
        [
         "Tablets",
         2.0,
         2
        ],
        [
         "Tablets",
         2.0,
         2
        ],
        [
         "Speakers",
         2.0,
         2
        ],
        [
         "Speakers",
         2.0,
         2
        ],
        [
         "Speakers",
         2.0,
         2
        ],
        [
         "Speakers",
         2.0,
         2
        ],
        [
         "Speakers",
         2.0,
         2
        ],
        [
         "Chairs",
         2.0,
         2
        ],
        [
         "Chairs",
         2.0,
         2
        ],
        [
         "Chairs",
         2.0,
         2
        ],
        [
         "Chairs",
         2.0,
         2
        ],
        [
         "Chairs",
         2.0,
         2
        ],
        [
         "Chairs",
         2.0,
         2
        ],
        [
         "Markers",
         2.0,
         2
        ],
        [
         "Markers",
         2.0,
         2
        ],
        [
         "Markers",
         2.0,
         2
        ],
        [
         "Markers",
         2.0,
         2
        ],
        [
         "Markers",
         2.0,
         2
        ],
        [
         "Markers",
         2.0,
         2
        ],
        [
         "Laptops",
         2.0,
         2
        ],
        [
         "Laptops",
         2.0,
         2
        ],
        [
         "Laptops",
         2.0,
         2
        ],
        [
         "Laptops",
         2.0,
         2
        ],
        [
         "Laptops",
         2.0,
         2
        ],
        [
         "Laptops",
         2.0,
         2
        ],
        [
         "Beds",
         2.0,
         2
        ],
        [
         "Beds",
         2.0,
         2
        ],
        [
         "Beds",
         2.0,
         2
        ],
        [
         "Beds",
         2.0,
         2
        ],
        [
         "Beds",
         2.0,
         2
        ],
        [
         "Beds",
         2.0,
         2
        ],
        [
         "Pens",
         2.0,
         2
        ],
        [
         "Pens",
         2.0,
         2
        ],
        [
         "Pens",
         2.0,
         2
        ],
        [
         "Pens",
         2.0,
         2
        ],
        [
         "Pens",
         2.0,
         2
        ],
        [
         "Pens",
         2.0,
         2
        ],
        [
         "Desks",
         2.0,
         2
        ],
        [
         "Desks",
         2.0,
         2
        ],
        [
         "Desks",
         2.0,
         2
        ],
        [
         "Desks",
         2.0,
         2
        ],
        [
         "Desks",
         2.0,
         2
        ],
        [
         "Monitors",
         2.0,
         2
        ],
        [
         "Monitors",
         2.0,
         2
        ],
        [
         "Monitors",
         2.0,
         2
        ],
        [
         "Monitors",
         2.0,
         2
        ],
        [
         "Monitors",
         2.0,
         2
        ],
        [
         "Monitors",
         2.0,
         2
        ],
        [
         "Tables",
         2.0,
         2
        ],
        [
         "Tables",
         2.0,
         2
        ],
        [
         "Tables",
         2.0,
         2
        ],
        [
         "Tables",
         2.0,
         2
        ],
        [
         "Tables",
         2.0,
         2
        ],
        [
         "Tables",
         2.0,
         2
        ],
        [
         "Smartphones",
         2.0,
         2
        ],
        [
         "Smartphones",
         2.0,
         2
        ],
        [
         "Smartphones",
         2.0,
         2
        ],
        [
         "Smartphones",
         2.0,
         2
        ],
        [
         "Envelopes",
         2.0,
         2
        ],
        [
         "Envelopes",
         2.0,
         2
        ],
        [
         "Envelopes",
         2.0,
         2
        ],
        [
         "Envelopes",
         2.0,
         2
        ],
        [
         "Envelopes",
         2.0,
         2
        ],
        [
         "Headphones",
         2.0,
         2
        ],
        [
         "Headphones",
         2.0,
         2
        ],
        [
         "Headphones",
         2.0,
         2
        ],
        [
         "Headphones",
         2.0,
         2
        ],
        [
         "Headphones",
         2.0,
         2
        ],
        [
         "Headphones",
         2.0,
         2
        ],
        [
         "Pencils",
         2.0,
         2
        ],
        [
         "Pencils",
         2.0,
         2
        ],
        [
         "Pencils",
         2.0,
         2
        ],
        [
         "Pencils",
         2.0,
         2
        ],
        [
         "Storage",
         2.0,
         2
        ],
        [
         "Storage",
         2.0,
         2
        ],
        [
         "Storage",
         2.0,
         2
        ],
        [
         "Storage",
         2.0,
         2
        ],
        [
         "Storage",
         2.0,
         2
        ],
        [
         "Notebooks",
         2.0,
         2
        ],
        [
         "Notebooks",
         2.0,
         2
        ],
        [
         "Notebooks",
         2.0,
         2
        ],
        [
         "Notebooks",
         2.0,
         2
        ],
        [
         "Notebooks",
         2.0,
         2
        ],
        [
         "Notebooks",
         2.0,
         2
        ],
        [
         "Tables",
         2.0,
         2
        ],
        [
         "Tables",
         2.0,
         2
        ],
        [
         "Tables",
         2.0,
         2
        ],
        [
         "Tables",
         2.0,
         2
        ],
        [
         "Cameras",
         2.0,
         2
        ],
        [
         "Cameras",
         2.0,
         2
        ],
        [
         "Cameras",
         2.0,
         2
        ],
        [
         "Cameras",
         2.0,
         2
        ],
        [
         "Cameras",
         2.0,
         2
        ],
        [
         "Bookcases",
         2.0,
         2
        ],
        [
         "Bookcases",
         2.0,
         2
        ],
        [
         "Bookcases",
         2.0,
         2
        ],
        [
         "Bookcases",
         2.0,
         2
        ],
        [
         "Bookcases",
         2.0,
         2
        ],
        [
         "Bookcases",
         2.0,
         2
        ],
        [
         "Laptops",
         2.0,
         2
        ],
        [
         "Laptops",
         2.0,
         2
        ],
        [
         "Laptops",
         2.0,
         2
        ],
        [
         "Laptops",
         2.0,
         2
        ],
        [
         "Glue",
         2.0,
         2
        ],
        [
         "Glue",
         2.0,
         2
        ],
        [
         "Glue",
         2.0,
         2
        ],
        [
         "Glue",
         2.0,
         2
        ],
        [
         "Glue",
         2.0,
         2
        ],
        [
         "Smartwatches",
         2.0,
         2
        ],
        [
         "Smartwatches",
         2.0,
         2
        ],
        [
         "Smartwatches",
         2.0,
         2
        ],
        [
         "Smartwatches",
         2.0,
         2
        ],
        [
         "Smartwatches",
         2.0,
         2
        ],
        [
         "Smartwatches",
         2.0,
         2
        ],
        [
         "Notebooks",
         2.0,
         2
        ],
        [
         "Notebooks",
         2.0,
         2
        ],
        [
         "Notebooks",
         2.0,
         2
        ],
        [
         "Notebooks",
         2.0,
         2
        ],
        [
         "Outdoor Furniture",
         2.0,
         2
        ],
        [
         "Outdoor Furniture",
         2.0,
         2
        ],
        [
         "Outdoor Furniture",
         2.0,
         2
        ],
        [
         "Outdoor Furniture",
         2.0,
         2
        ],
        [
         "Outdoor Furniture",
         2.0,
         2
        ],
        [
         "Bookcases",
         2.0,
         2
        ],
        [
         "Bookcases",
         2.0,
         2
        ],
        [
         "Bookcases",
         2.0,
         2
        ],
        [
         "Bookcases",
         2.0,
         2
        ],
        [
         "Accessories",
         2.0,
         2
        ],
        [
         "Accessories",
         2.0,
         2
        ],
        [
         "Accessories",
         2.0,
         2
        ],
        [
         "Accessories",
         2.0,
         2
        ],
        [
         "Accessories",
         2.0,
         2
        ],
        [
         "Desks",
         2.0,
         2
        ],
        [
         "Desks",
         2.0,
         2
        ],
        [
         "Desks",
         2.0,
         2
        ],
        [
         "Desks",
         2.0,
         2
        ],
        [
         "Desks",
         2.0,
         2
        ],
        [
         "Desks",
         2.0,
         2
        ],
        [
         "Headphones",
         2.0,
         2
        ],
        [
         "Headphones",
         2.0,
         2
        ],
        [
         "Headphones",
         2.0,
         2
        ],
        [
         "Headphones",
         2.0,
         2
        ],
        [
         "Printers",
         2.0,
         2
        ],
        [
         "Printers",
         2.0,
         2
        ],
        [
         "Printers",
         2.0,
         2
        ],
        [
         "Printers",
         2.0,
         2
        ],
        [
         "Printers",
         2.0,
         2
        ],
        [
         "Printers",
         2.0,
         2
        ],
        [
         "Lighting",
         2.0,
         2
        ],
        [
         "Lighting",
         2.0,
         2
        ],
        [
         "Lighting",
         2.0,
         2
        ],
        [
         "Lighting",
         2.0,
         2
        ],
        [
         "Lighting",
         2.0,
         2
        ],
        [
         "Printers",
         2.0,
         2
        ],
        [
         "Printers",
         2.0,
         2
        ],
        [
         "Printers",
         2.0,
         2
        ],
        [
         "Printers",
         2.0,
         2
        ],
        [
         "Printers",
         2.0,
         2
        ]
       ],
       "datasetInfos": [],
       "dbfsResultPath": null,
       "isJsonSchema": true,
       "metadata": {},
       "overflow": false,
       "plotOptions": {
        "customPlotOptions": {},
        "displayType": "table",
        "pivotAggregation": null,
        "pivotColumns": null,
        "xColumns": null,
        "yColumns": null
       },
       "removedWidgets": [],
       "schema": [
        {
         "metadata": "{}",
         "name": "Sub_Category",
         "type": "\"string\""
        },
        {
         "metadata": "{}",
         "name": "Profit_Margin",
         "type": "\"double\""
        },
        {
         "metadata": "{}",
         "name": "Rank_Of_Orders",
         "type": "\"integer\""
        }
       ],
       "type": "table"
      }
     },
     "output_type": "display_data"
    }
   ],
   "source": [
    "%sql select Sub_Category,Profit_Margin,dense_rank() over( Order by Profit_Margin desc) as Rank_Of_Orders  from a_df"
   ]
  },
  {
   "cell_type": "code",
   "execution_count": 0,
   "metadata": {
    "application/vnd.databricks.v1+cell": {
     "cellMetadata": {
      "byteLimit": 2048000,
      "rowLimit": 10000
     },
     "inputWidgets": {},
     "nuid": "8770e34b-28cf-4fcd-8816-b5d30a67c257",
     "showTitle": false,
     "title": ""
    }
   },
   "outputs": [
    {
     "output_type": "stream",
     "name": "stdout",
     "output_type": "stream",
     "text": [
      "+----------+----------+-----------------+-----+\n|Order_Date|Ship_Date |Product_Reference|State|\n+----------+----------+-----------------+-----+\n|2021-02-15|2021-02-20|OFF-TAP-10022901 |OH   |\n|2021-03-10|2021-03-15|FUR-CH-10000454  |TX   |\n|2021-04-06|2021-04-11|FUR-SOF-10009567 |FL   |\n|2021-05-03|2021-05-08|FUR-CHA-10023012 |TX   |\n|2021-05-22|2021-05-28|OFF-PAP-10001234 |GA   |\n+----------+----------+-----------------+-----+\nonly showing top 5 rows\n\n"
     ]
    }
   ],
   "source": [
    "# Question: Find orders with the same Order_Date, Ship_Date, Product_Reference, and State.\n",
    "a_df=df.select(\"Order_Date\",\"Ship_Date\",\"Product_Reference\",\"State\")\n",
    "a_df=a_df.withColumn(\"Same_Orders\",row_number().over(Window.partitionBy(df.Order_Date,df.Ship_Date,df.Product_Reference,df.State).orderBy(df.Order_Date,df.Ship_Date,df.Product_Reference,df.State)))\n",
    "a_df=a_df.filter(a_df.Same_Orders>=2).drop(\"Same_Orders\").distinct()\n",
    "a_df.show(5,False)"
   ]
  },
  {
   "cell_type": "code",
   "execution_count": 0,
   "metadata": {
    "application/vnd.databricks.v1+cell": {
     "cellMetadata": {
      "byteLimit": 2048000,
      "implicitDf": true,
      "rowLimit": 10000
     },
     "inputWidgets": {},
     "nuid": "3cd61182-0fad-43b8-b4ca-d0c7d5bc43d6",
     "showTitle": false,
     "title": ""
    }
   },
   "outputs": [
    {
     "output_type": "display_data",
     "data": {
      "text/html": [
       "<style scoped>\n",
       "  .table-result-container {\n",
       "    max-height: 300px;\n",
       "    overflow: auto;\n",
       "  }\n",
       "  table, th, td {\n",
       "    border: 1px solid black;\n",
       "    border-collapse: collapse;\n",
       "  }\n",
       "  th, td {\n",
       "    padding: 5px;\n",
       "  }\n",
       "  th {\n",
       "    text-align: left;\n",
       "  }\n",
       "</style><div class='table-result-container'><table class='table-result'><thead style='background-color: white'><tr><th>Order_Date</th><th>Ship_Date</th><th>Product_Reference</th><th>State</th></tr></thead><tbody><tr><td>2022-07-29</td><td>2022-08-03</td><td>FUR-STO-10014123</td><td>IL</td></tr><tr><td>2023-01-02</td><td>2023-01-08</td><td>OFF-GLU-10016345</td><td>OH</td></tr><tr><td>2021-05-03</td><td>2021-05-08</td><td>FUR-CHA-10023012</td><td>TX</td></tr><tr><td>2023-04-21</td><td>2023-04-28</td><td>OFF-STP-10009123</td><td>GA</td></tr><tr><td>2022-04-03</td><td>2022-04-10</td><td>FUR-TAB-10005678</td><td>FL</td></tr><tr><td>2022-01-24</td><td>2022-01-30</td><td>FUR-DES-10026345</td><td>IL</td></tr><tr><td>2022-11-27</td><td>2022-12-03</td><td>FUR-BOO-10008901</td><td>OH</td></tr><tr><td>2022-09-09</td><td>2022-09-15</td><td>OFF-NOT-10007890</td><td>UT</td></tr><tr><td>2021-02-15</td><td>2021-02-20</td><td>OFF-TAP-10022901</td><td>OH</td></tr><tr><td>2021-03-10</td><td>2021-03-15</td><td>FUR-CH-10000454</td><td>TX</td></tr><tr><td>2021-06-25</td><td>2021-06-30</td><td>ELE-TAB-10010678</td><td>UT</td></tr><tr><td>2022-02-25</td><td>2022-03-02</td><td>ELE-MON-10013901</td><td>GA</td></tr><tr><td>2023-03-17</td><td>2023-03-24</td><td>FUR-OUT-10017456</td><td>TX</td></tr><tr><td>2021-11-12</td><td>2021-11-17</td><td>FUR-BED-10012890</td><td>TX</td></tr><tr><td>2023-09-30</td><td>2023-10-05</td><td>ELE-PRI-10009345</td><td>IL</td></tr><tr><td>2023-05-29</td><td>2023-06-03</td><td>ELE-ACC-10018567</td><td>FL</td></tr><tr><td>2021-05-22</td><td>2021-05-28</td><td>OFF-PAP-10001234</td><td>GA</td></tr><tr><td>2023-12-11</td><td>2023-12-18</td><td>OFF-SCI-10009456</td><td>DC</td></tr><tr><td>2021-08-17</td><td>2021-08-20</td><td>FUR-CHA-10002345</td><td>CA</td></tr><tr><td>2023-10-28</td><td>2023-11-02</td><td>FUR-LIG-10020789</td><td>IL</td></tr><tr><td>2022-05-11</td><td>2022-05-16</td><td>OFF-ENV-10014012</td><td>WA</td></tr><tr><td>2022-06-14</td><td>2022-06-18</td><td>ELE-HEA-10006789</td><td>WA</td></tr><tr><td>2023-08-14</td><td>2023-08-20</td><td>OFF-RUL-10019678</td><td>UT</td></tr><tr><td>2021-07-18</td><td>2021-07-23</td><td>ELE-SPE-10024123</td><td>FL</td></tr><tr><td>2023-02-08</td><td>2023-02-14</td><td>ELE-SMA-10009012</td><td>TX</td></tr><tr><td>2024-01-09</td><td>2024-01-14</td><td>ELE-PRI-10021890</td><td>DC</td></tr><tr><td>2022-01-18</td><td>2022-01-25</td><td>OFF-PEN-10004567</td><td>DC</td></tr><tr><td>2023-07-15</td><td>2023-07-21</td><td>FUR-DES-10009234</td><td>CA</td></tr><tr><td>2022-10-18</td><td>2022-10-24</td><td>ELE-CAM-10015234</td><td>DC</td></tr><tr><td>2021-10-11</td><td>2021-10-16</td><td>OFF-ERA-10025234</td><td>UT</td></tr><tr><td>2021-04-06</td><td>2021-04-11</td><td>FUR-SOF-10009567</td><td>FL</td></tr><tr><td>2021-09-20</td><td>2021-09-25</td><td>OFF-MAR-10011789</td><td>OH</td></tr><tr><td>2021-10-05</td><td>2021-10-12</td><td>ELE-LAP-10003456</td><td>IL</td></tr></tbody></table></div>"
      ]
     },
     "metadata": {
      "application/vnd.databricks.v1+output": {
       "addedWidgets": {},
       "aggData": [],
       "aggError": "",
       "aggOverflow": false,
       "aggSchema": [],
       "aggSeriesLimitReached": false,
       "aggType": "",
       "arguments": {},
       "columnCustomDisplayInfos": {},
       "data": [
        [
         "2022-07-29",
         "2022-08-03",
         "FUR-STO-10014123",
         "IL"
        ],
        [
         "2023-01-02",
         "2023-01-08",
         "OFF-GLU-10016345",
         "OH"
        ],
        [
         "2021-05-03",
         "2021-05-08",
         "FUR-CHA-10023012",
         "TX"
        ],
        [
         "2023-04-21",
         "2023-04-28",
         "OFF-STP-10009123",
         "GA"
        ],
        [
         "2022-04-03",
         "2022-04-10",
         "FUR-TAB-10005678",
         "FL"
        ],
        [
         "2022-01-24",
         "2022-01-30",
         "FUR-DES-10026345",
         "IL"
        ],
        [
         "2022-11-27",
         "2022-12-03",
         "FUR-BOO-10008901",
         "OH"
        ],
        [
         "2022-09-09",
         "2022-09-15",
         "OFF-NOT-10007890",
         "UT"
        ],
        [
         "2021-02-15",
         "2021-02-20",
         "OFF-TAP-10022901",
         "OH"
        ],
        [
         "2021-03-10",
         "2021-03-15",
         "FUR-CH-10000454",
         "TX"
        ],
        [
         "2021-06-25",
         "2021-06-30",
         "ELE-TAB-10010678",
         "UT"
        ],
        [
         "2022-02-25",
         "2022-03-02",
         "ELE-MON-10013901",
         "GA"
        ],
        [
         "2023-03-17",
         "2023-03-24",
         "FUR-OUT-10017456",
         "TX"
        ],
        [
         "2021-11-12",
         "2021-11-17",
         "FUR-BED-10012890",
         "TX"
        ],
        [
         "2023-09-30",
         "2023-10-05",
         "ELE-PRI-10009345",
         "IL"
        ],
        [
         "2023-05-29",
         "2023-06-03",
         "ELE-ACC-10018567",
         "FL"
        ],
        [
         "2021-05-22",
         "2021-05-28",
         "OFF-PAP-10001234",
         "GA"
        ],
        [
         "2023-12-11",
         "2023-12-18",
         "OFF-SCI-10009456",
         "DC"
        ],
        [
         "2021-08-17",
         "2021-08-20",
         "FUR-CHA-10002345",
         "CA"
        ],
        [
         "2023-10-28",
         "2023-11-02",
         "FUR-LIG-10020789",
         "IL"
        ],
        [
         "2022-05-11",
         "2022-05-16",
         "OFF-ENV-10014012",
         "WA"
        ],
        [
         "2022-06-14",
         "2022-06-18",
         "ELE-HEA-10006789",
         "WA"
        ],
        [
         "2023-08-14",
         "2023-08-20",
         "OFF-RUL-10019678",
         "UT"
        ],
        [
         "2021-07-18",
         "2021-07-23",
         "ELE-SPE-10024123",
         "FL"
        ],
        [
         "2023-02-08",
         "2023-02-14",
         "ELE-SMA-10009012",
         "TX"
        ],
        [
         "2024-01-09",
         "2024-01-14",
         "ELE-PRI-10021890",
         "DC"
        ],
        [
         "2022-01-18",
         "2022-01-25",
         "OFF-PEN-10004567",
         "DC"
        ],
        [
         "2023-07-15",
         "2023-07-21",
         "FUR-DES-10009234",
         "CA"
        ],
        [
         "2022-10-18",
         "2022-10-24",
         "ELE-CAM-10015234",
         "DC"
        ],
        [
         "2021-10-11",
         "2021-10-16",
         "OFF-ERA-10025234",
         "UT"
        ],
        [
         "2021-04-06",
         "2021-04-11",
         "FUR-SOF-10009567",
         "FL"
        ],
        [
         "2021-09-20",
         "2021-09-25",
         "OFF-MAR-10011789",
         "OH"
        ],
        [
         "2021-10-05",
         "2021-10-12",
         "ELE-LAP-10003456",
         "IL"
        ]
       ],
       "datasetInfos": [],
       "dbfsResultPath": null,
       "isJsonSchema": true,
       "metadata": {},
       "overflow": false,
       "plotOptions": {
        "customPlotOptions": {},
        "displayType": "table",
        "pivotAggregation": null,
        "pivotColumns": null,
        "xColumns": null,
        "yColumns": null
       },
       "removedWidgets": [],
       "schema": [
        {
         "metadata": "{\"__detected_date_formats\":\"yyyy-M-d\"}",
         "name": "Order_Date",
         "type": "\"date\""
        },
        {
         "metadata": "{\"__detected_date_formats\":\"yyyy-M-d\"}",
         "name": "Ship_Date",
         "type": "\"date\""
        },
        {
         "metadata": "{}",
         "name": "Product_Reference",
         "type": "\"string\""
        },
        {
         "metadata": "{}",
         "name": "State",
         "type": "\"string\""
        }
       ],
       "type": "table"
      }
     },
     "output_type": "display_data"
    }
   ],
   "source": [
    "%sql select Order_Date, Ship_Date, Product_Reference,State from (select Order_Date, Ship_Date, Product_Reference,State,count(*) from a_df\n",
    "group by 1,2,3,4\n",
    "having count(*)>1)"
   ]
  },
  {
   "cell_type": "code",
   "execution_count": 0,
   "metadata": {
    "application/vnd.databricks.v1+cell": {
     "cellMetadata": {
      "byteLimit": 2048000,
      "rowLimit": 10000
     },
     "inputWidgets": {},
     "nuid": "42bfbeac-6232-430e-89d1-9d15b9245703",
     "showTitle": false,
     "title": ""
    }
   },
   "outputs": [
    {
     "output_type": "stream",
     "name": "stdout",
     "output_type": "stream",
     "text": [
      "+-----------------+----------------+\n|Product_Reference|Latest_orderDate|\n+-----------------+----------------+\n|OFF-NOT-10000491 |2023-02-13      |\n|FUR-TAB-10000489 |2022-09-15      |\n|FUR-CH-10002345  |2021-08-17      |\n|ELE-ACC-10018567 |2023-05-29      |\n|ELE-PRI-10009345 |2023-09-30      |\n+-----------------+----------------+\nonly showing top 5 rows\n\n"
     ]
    }
   ],
   "source": [
    "# Question: Retrieve the latest order for each unique Product_Reference.\n",
    "a_df=df.select(\"Product_Reference\",\"Order_Date\").groupBy(\"Product_Reference\").agg(max(col(\"Order_Date\")).alias(\"Latest_orderDate\"))\n",
    "a_df.show(5,False)"
   ]
  },
  {
   "cell_type": "code",
   "execution_count": 0,
   "metadata": {
    "application/vnd.databricks.v1+cell": {
     "cellMetadata": {
      "byteLimit": 2048000,
      "implicitDf": true,
      "rowLimit": 10000
     },
     "inputWidgets": {},
     "nuid": "46c04363-2967-4921-848f-45f0517ca3f3",
     "showTitle": false,
     "title": ""
    }
   },
   "outputs": [
    {
     "output_type": "display_data",
     "data": {
      "text/html": [
       "<style scoped>\n",
       "  .table-result-container {\n",
       "    max-height: 300px;\n",
       "    overflow: auto;\n",
       "  }\n",
       "  table, th, td {\n",
       "    border: 1px solid black;\n",
       "    border-collapse: collapse;\n",
       "  }\n",
       "  th, td {\n",
       "    padding: 5px;\n",
       "  }\n",
       "  th {\n",
       "    text-align: left;\n",
       "  }\n",
       "</style><div class='table-result-container'><table class='table-result'><thead style='background-color: white'><tr><th>Product_Reference</th><th>Latest_orderDate</th></tr></thead><tbody><tr><td>OFF-NOT-10000491</td><td>2023-02-13</td></tr><tr><td>FUR-TAB-10000489</td><td>2022-09-15</td></tr><tr><td>FUR-CH-10002345</td><td>2021-08-17</td></tr><tr><td>ELE-ACC-10018567</td><td>2023-05-29</td></tr><tr><td>ELE-PRI-10009345</td><td>2023-09-30</td></tr><tr><td>FUR-BED-10012890</td><td>2021-11-12</td></tr><tr><td>FUR-DES-10027456</td><td>2022-01-24</td></tr><tr><td>FUR-BOO-10000462</td><td>2022-11-27</td></tr><tr><td>ELE-LAP-10000490</td><td>2022-11-30</td></tr><tr><td>FUR-LIG-10020789</td><td>2023-10-28</td></tr><tr><td>OFF-STP-10009123</td><td>2023-04-21</td></tr><tr><td>FUR-BOO-10010890</td><td>2022-11-27</td></tr><tr><td>ELE-CAM-10015234</td><td>2022-10-18</td></tr><tr><td>OFF-PEN-10005678</td><td>2022-01-18</td></tr><tr><td>OFF-TAP-10000482</td><td>2021-02-15</td></tr><tr><td>ELE-LAP-10003456</td><td>2021-10-05</td></tr><tr><td>OFF-PEN-10028567</td><td>2022-06-23</td></tr><tr><td>OFF-TAP-10022901</td><td>2021-02-15</td></tr><tr><td>ELE-CAM-10000475</td><td>2022-10-18</td></tr><tr><td>ELE-MON-10001818</td><td>2022-02-25</td></tr><tr><td>FUR-BOO-10000492</td><td>2023-04-28</td></tr><tr><td>OFF-PEN-10000458</td><td>2022-01-18</td></tr><tr><td>OFF-TAP-10023012</td><td>2021-02-15</td></tr><tr><td>OFF-ERA-10026345</td><td>2021-10-11</td></tr><tr><td>OFF-ENV-10001919</td><td>2022-05-11</td></tr><tr><td>FUR-CHA-10002345</td><td>2021-08-17</td></tr><tr><td>FUR-CHA-10002789</td><td>2021-08-17</td></tr><tr><td>OFF-ERA-10003131</td><td>2021-10-11</td></tr><tr><td>FUR-OUT-10018456</td><td>2023-03-17</td></tr><tr><td>ELE-SMA-10009012</td><td>2023-02-08</td></tr><tr><td>ELE-PRI-10014567</td><td>2023-09-30</td></tr><tr><td>FUR-SOF-10001414</td><td>2021-04-06</td></tr><tr><td>ELE-SPE-10000484</td><td>2021-07-18</td></tr><tr><td>FUR-TAB-10005678</td><td>2022-04-03</td></tr><tr><td>FUR-STO-10014123</td><td>2022-07-29</td></tr><tr><td>OFF-STP-10035345</td><td>2023-10-08</td></tr><tr><td>FUR-BED-10019890</td><td>2021-11-12</td></tr><tr><td>ELE-MON-10020543</td><td>2022-02-25</td></tr><tr><td>FUR-TAB-10005555</td><td>2022-04-03</td></tr><tr><td>OFF-STP-10034123</td><td>2023-10-08</td></tr><tr><td>ELE-SMA-10027456</td><td>2022-04-10</td></tr><tr><td>ELE-ACC-10000478</td><td>2023-05-29</td></tr><tr><td>OFF-SCI-10015678</td><td>2023-12-11</td></tr><tr><td>ELE-PRI-10022901</td><td>2024-01-09</td></tr><tr><td>FUR-SOF-10009567</td><td>2021-04-06</td></tr><tr><td>FUR-DES-10003232</td><td>2022-01-24</td></tr><tr><td>FUR-BOO-10008888</td><td>2022-11-27</td></tr><tr><td>ELE-PRI-10000481</td><td>2024-01-09</td></tr><tr><td>ELE-SPE-10024123</td><td>2021-07-18</td></tr><tr><td>OFF-PEN-10004567</td><td>2022-01-18</td></tr><tr><td>OFF-NOT-10007777</td><td>2022-09-09</td></tr><tr><td>ELE-ACC-10002424</td><td>2023-05-29</td></tr><tr><td>ELE-SPE-10025234</td><td>2021-07-18</td></tr><tr><td>OFF-ERA-10000485</td><td>2021-10-11</td></tr><tr><td>ELE-HEA-10006666</td><td>2022-06-14</td></tr><tr><td>OFF-NOT-10003737</td><td>2023-02-13</td></tr><tr><td>ELE-HEA-10034234</td><td>2023-07-18</td></tr><tr><td>OFF-NOT-10000461</td><td>2022-09-09</td></tr><tr><td>FUR-DES-10001111</td><td>2023-07-15</td></tr><tr><td>OFF-PAP-10001578</td><td>2021-05-22</td></tr><tr><td>FUR-BOO-10008901</td><td>2022-11-27</td></tr><tr><td>FUR-DES-10000486</td><td>2022-01-24</td></tr><tr><td>FUR-TAB-10029678</td><td>2022-09-15</td></tr><tr><td>ELE-SMA-10009999</td><td>2023-02-08</td></tr><tr><td>ELE-PRI-10001212</td><td>2023-09-30</td></tr><tr><td>ELE-SMA-10028567</td><td>2022-04-10</td></tr><tr><td>ELE-SMA-10003333</td><td>2022-04-10</td></tr><tr><td>OFF-MAR-10011789</td><td>2021-09-20</td></tr><tr><td>OFF-GLU-10002222</td><td>2023-01-02</td></tr><tr><td>OFF-GLU-10000476</td><td>2023-01-02</td></tr><tr><td>FUR-CHA-10002929</td><td>2021-05-03</td></tr><tr><td>OFF-MAR-10018901</td><td>2021-09-20</td></tr><tr><td>ELE-LAP-10031901</td><td>2022-11-30</td></tr><tr><td>OFF-STA-10000464</td><td>2023-04-21</td></tr><tr><td>FUR-DES-10000465</td><td>2023-07-15</td></tr><tr><td>OFF-PEN-10004444</td><td>2022-01-18</td></tr><tr><td>ELE-SMA-10000463</td><td>2023-02-08</td></tr><tr><td>OFF-PEN-10029678</td><td>2022-06-23</td></tr><tr><td>OFF-GLU-10016345</td><td>2023-01-02</td></tr><tr><td>OFF-PAP-10001111</td><td>2021-05-22</td></tr><tr><td>OFF-PEN-10000488</td><td>2022-06-23</td></tr><tr><td>FUR-LIG-10002626</td><td>2023-10-28</td></tr><tr><td>FUR-DES-10026345</td><td>2022-01-24</td></tr><tr><td>OFF-RUL-10019678</td><td>2023-08-14</td></tr><tr><td>ELE-HEA-10008901</td><td>2022-06-14</td></tr><tr><td>FUR-STO-10002020</td><td>2022-07-29</td></tr><tr><td>ELE-HEA-10033012</td><td>2023-07-18</td></tr><tr><td>FUR-CHA-10000483</td><td>2021-05-03</td></tr><tr><td>ELE-CAM-10016234</td><td>2022-10-18</td></tr><tr><td>FUR-SOF-10016578</td><td>2021-04-06</td></tr><tr><td>ELE-LAP-10000457</td><td>2021-10-05</td></tr><tr><td>OFF-NOT-10009456</td><td>2022-09-09</td></tr><tr><td>FUR-TAB-10007890</td><td>2022-04-03</td></tr><tr><td>OFF-STP-10004040</td><td>2023-10-08</td></tr><tr><td>FUR-CHA-10002222</td><td>2021-08-17</td></tr><tr><td>ELE-ACC-10019567</td><td>2023-05-29</td></tr><tr><td>ELE-TAB-10017689</td><td>2021-06-25</td></tr><tr><td>OFF-NOT-10031890</td><td>2023-02-13</td></tr><tr><td>OFF-TAP-10002828</td><td>2021-02-15</td></tr><tr><td>OFF-SCI-10000467</td><td>2023-12-11</td></tr><tr><td>ELE-PRI-10002727</td><td>2024-01-09</td></tr><tr><td>OFF-MAR-10000470</td><td>2021-09-20</td></tr><tr><td>ELE-MON-10000472</td><td>2022-02-25</td></tr><tr><td>OFF-ENV-10000473</td><td>2022-05-11</td></tr><tr><td>ELE-HEA-10000493</td><td>2023-07-18</td></tr><tr><td>OFF-RUL-10000479</td><td>2023-08-14</td></tr><tr><td>ELE-HEA-10000460</td><td>2022-06-14</td></tr><tr><td>FUR-BED-10000471</td><td>2021-11-12</td></tr><tr><td>FUR-TAB-10030789</td><td>2022-09-15</td></tr><tr><td>FUR-TAB-10000459</td><td>2022-04-03</td></tr><tr><td>ELE-LAP-10003636</td><td>2022-11-30</td></tr><tr><td>OFF-NOT-10032012</td><td>2023-02-13</td></tr><tr><td>FUR-BED-10001717</td><td>2021-11-12</td></tr><tr><td>FUR-CHA-10023012</td><td>2021-05-03</td></tr><tr><td>OFF-NOT-10007890</td><td>2022-09-09</td></tr><tr><td>OFF-RUL-10002525</td><td>2023-08-14</td></tr><tr><td>FUR-CH-10000454</td><td>2021-03-10</td></tr><tr><td>ELE-SMA-10000487</td><td>2022-04-10</td></tr><tr><td>OFF-SCI-10009456</td><td>2023-12-11</td></tr><tr><td>OFF-STP-10001010</td><td>2023-04-21</td></tr><tr><td>OFF-STP-10012456</td><td>2023-04-21</td></tr><tr><td>ELE-TAB-10001515</td><td>2021-06-25</td></tr><tr><td>ELE-SPE-10003030</td><td>2021-07-18</td></tr><tr><td>FUR-CHA-10000456</td><td>2021-08-17</td></tr><tr><td>OFF-PAP-10000455</td><td>2021-05-22</td></tr><tr><td>ELE-LAP-10003333</td><td>2021-10-05</td></tr><tr><td>OFF-SCI-10001313</td><td>2023-12-11</td></tr><tr><td>ELE-LAP-10004567</td><td>2021-10-05</td></tr><tr><td>ELE-LAP-10030789</td><td>2022-11-30</td></tr><tr><td>ELE-PRI-10021890</td><td>2024-01-09</td></tr><tr><td>OFF-ENV-10014012</td><td>2022-05-11</td></tr><tr><td>FUR-BOO-10032901</td><td>2023-04-28</td></tr><tr><td>FUR-SOF-10000468</td><td>2021-04-06</td></tr><tr><td>ELE-CAM-10002121</td><td>2022-10-18</td></tr><tr><td>ELE-MON-10013901</td><td>2022-02-25</td></tr><tr><td>ELE-HEA-10006789</td><td>2022-06-14</td></tr><tr><td>FUR-OUT-10000477</td><td>2023-03-17</td></tr><tr><td>FUR-DES-10009234</td><td>2023-07-15</td></tr><tr><td>FUR-LIG-10000480</td><td>2023-10-28</td></tr><tr><td>OFF-ERA-10025234</td><td>2021-10-11</td></tr><tr><td>FUR-OUT-10017456</td><td>2023-03-17</td></tr><tr><td>ELE-TAB-10010678</td><td>2021-06-25</td></tr><tr><td>OFF-GLU-10017345</td><td>2023-01-02</td></tr><tr><td>OFF-RUL-10020678</td><td>2023-08-14</td></tr><tr><td>FUR-CHA-10024123</td><td>2021-05-03</td></tr><tr><td>FUR-BOO-10003838</td><td>2023-04-28</td></tr><tr><td>FUR-LIG-10021789</td><td>2023-10-28</td></tr><tr><td>FUR-DES-10013567</td><td>2023-07-15</td></tr><tr><td>FUR-STO-10015123</td><td>2022-07-29</td></tr><tr><td>OFF-STAP-10000494</td><td>2023-10-08</td></tr><tr><td>OFF-MAR-10001616</td><td>2021-09-20</td></tr><tr><td>FUR-TAB-10003535</td><td>2022-09-15</td></tr><tr><td>OFF-PEN-10003434</td><td>2022-06-23</td></tr><tr><td>FUR-BOO-10033123</td><td>2023-04-28</td></tr><tr><td>ELE-TAB-10000469</td><td>2021-06-25</td></tr><tr><td>OFF-PAP-10001234</td><td>2021-05-22</td></tr><tr><td>FUR-STO-10000474</td><td>2022-07-29</td></tr><tr><td>ELE-SMA-10011234</td><td>2023-02-08</td></tr><tr><td>FUR-OUT-10002323</td><td>2023-03-17</td></tr><tr><td>ELE-HEA-10003939</td><td>2023-07-18</td></tr><tr><td>ELE-PRI-10000466</td><td>2023-09-30</td></tr></tbody></table></div>"
      ]
     },
     "metadata": {
      "application/vnd.databricks.v1+output": {
       "addedWidgets": {},
       "aggData": [],
       "aggError": "",
       "aggOverflow": false,
       "aggSchema": [],
       "aggSeriesLimitReached": false,
       "aggType": "",
       "arguments": {},
       "columnCustomDisplayInfos": {},
       "data": [
        [
         "OFF-NOT-10000491",
         "2023-02-13"
        ],
        [
         "FUR-TAB-10000489",
         "2022-09-15"
        ],
        [
         "FUR-CH-10002345",
         "2021-08-17"
        ],
        [
         "ELE-ACC-10018567",
         "2023-05-29"
        ],
        [
         "ELE-PRI-10009345",
         "2023-09-30"
        ],
        [
         "FUR-BED-10012890",
         "2021-11-12"
        ],
        [
         "FUR-DES-10027456",
         "2022-01-24"
        ],
        [
         "FUR-BOO-10000462",
         "2022-11-27"
        ],
        [
         "ELE-LAP-10000490",
         "2022-11-30"
        ],
        [
         "FUR-LIG-10020789",
         "2023-10-28"
        ],
        [
         "OFF-STP-10009123",
         "2023-04-21"
        ],
        [
         "FUR-BOO-10010890",
         "2022-11-27"
        ],
        [
         "ELE-CAM-10015234",
         "2022-10-18"
        ],
        [
         "OFF-PEN-10005678",
         "2022-01-18"
        ],
        [
         "OFF-TAP-10000482",
         "2021-02-15"
        ],
        [
         "ELE-LAP-10003456",
         "2021-10-05"
        ],
        [
         "OFF-PEN-10028567",
         "2022-06-23"
        ],
        [
         "OFF-TAP-10022901",
         "2021-02-15"
        ],
        [
         "ELE-CAM-10000475",
         "2022-10-18"
        ],
        [
         "ELE-MON-10001818",
         "2022-02-25"
        ],
        [
         "FUR-BOO-10000492",
         "2023-04-28"
        ],
        [
         "OFF-PEN-10000458",
         "2022-01-18"
        ],
        [
         "OFF-TAP-10023012",
         "2021-02-15"
        ],
        [
         "OFF-ERA-10026345",
         "2021-10-11"
        ],
        [
         "OFF-ENV-10001919",
         "2022-05-11"
        ],
        [
         "FUR-CHA-10002345",
         "2021-08-17"
        ],
        [
         "FUR-CHA-10002789",
         "2021-08-17"
        ],
        [
         "OFF-ERA-10003131",
         "2021-10-11"
        ],
        [
         "FUR-OUT-10018456",
         "2023-03-17"
        ],
        [
         "ELE-SMA-10009012",
         "2023-02-08"
        ],
        [
         "ELE-PRI-10014567",
         "2023-09-30"
        ],
        [
         "FUR-SOF-10001414",
         "2021-04-06"
        ],
        [
         "ELE-SPE-10000484",
         "2021-07-18"
        ],
        [
         "FUR-TAB-10005678",
         "2022-04-03"
        ],
        [
         "FUR-STO-10014123",
         "2022-07-29"
        ],
        [
         "OFF-STP-10035345",
         "2023-10-08"
        ],
        [
         "FUR-BED-10019890",
         "2021-11-12"
        ],
        [
         "ELE-MON-10020543",
         "2022-02-25"
        ],
        [
         "FUR-TAB-10005555",
         "2022-04-03"
        ],
        [
         "OFF-STP-10034123",
         "2023-10-08"
        ],
        [
         "ELE-SMA-10027456",
         "2022-04-10"
        ],
        [
         "ELE-ACC-10000478",
         "2023-05-29"
        ],
        [
         "OFF-SCI-10015678",
         "2023-12-11"
        ],
        [
         "ELE-PRI-10022901",
         "2024-01-09"
        ],
        [
         "FUR-SOF-10009567",
         "2021-04-06"
        ],
        [
         "FUR-DES-10003232",
         "2022-01-24"
        ],
        [
         "FUR-BOO-10008888",
         "2022-11-27"
        ],
        [
         "ELE-PRI-10000481",
         "2024-01-09"
        ],
        [
         "ELE-SPE-10024123",
         "2021-07-18"
        ],
        [
         "OFF-PEN-10004567",
         "2022-01-18"
        ],
        [
         "OFF-NOT-10007777",
         "2022-09-09"
        ],
        [
         "ELE-ACC-10002424",
         "2023-05-29"
        ],
        [
         "ELE-SPE-10025234",
         "2021-07-18"
        ],
        [
         "OFF-ERA-10000485",
         "2021-10-11"
        ],
        [
         "ELE-HEA-10006666",
         "2022-06-14"
        ],
        [
         "OFF-NOT-10003737",
         "2023-02-13"
        ],
        [
         "ELE-HEA-10034234",
         "2023-07-18"
        ],
        [
         "OFF-NOT-10000461",
         "2022-09-09"
        ],
        [
         "FUR-DES-10001111",
         "2023-07-15"
        ],
        [
         "OFF-PAP-10001578",
         "2021-05-22"
        ],
        [
         "FUR-BOO-10008901",
         "2022-11-27"
        ],
        [
         "FUR-DES-10000486",
         "2022-01-24"
        ],
        [
         "FUR-TAB-10029678",
         "2022-09-15"
        ],
        [
         "ELE-SMA-10009999",
         "2023-02-08"
        ],
        [
         "ELE-PRI-10001212",
         "2023-09-30"
        ],
        [
         "ELE-SMA-10028567",
         "2022-04-10"
        ],
        [
         "ELE-SMA-10003333",
         "2022-04-10"
        ],
        [
         "OFF-MAR-10011789",
         "2021-09-20"
        ],
        [
         "OFF-GLU-10002222",
         "2023-01-02"
        ],
        [
         "OFF-GLU-10000476",
         "2023-01-02"
        ],
        [
         "FUR-CHA-10002929",
         "2021-05-03"
        ],
        [
         "OFF-MAR-10018901",
         "2021-09-20"
        ],
        [
         "ELE-LAP-10031901",
         "2022-11-30"
        ],
        [
         "OFF-STA-10000464",
         "2023-04-21"
        ],
        [
         "FUR-DES-10000465",
         "2023-07-15"
        ],
        [
         "OFF-PEN-10004444",
         "2022-01-18"
        ],
        [
         "ELE-SMA-10000463",
         "2023-02-08"
        ],
        [
         "OFF-PEN-10029678",
         "2022-06-23"
        ],
        [
         "OFF-GLU-10016345",
         "2023-01-02"
        ],
        [
         "OFF-PAP-10001111",
         "2021-05-22"
        ],
        [
         "OFF-PEN-10000488",
         "2022-06-23"
        ],
        [
         "FUR-LIG-10002626",
         "2023-10-28"
        ],
        [
         "FUR-DES-10026345",
         "2022-01-24"
        ],
        [
         "OFF-RUL-10019678",
         "2023-08-14"
        ],
        [
         "ELE-HEA-10008901",
         "2022-06-14"
        ],
        [
         "FUR-STO-10002020",
         "2022-07-29"
        ],
        [
         "ELE-HEA-10033012",
         "2023-07-18"
        ],
        [
         "FUR-CHA-10000483",
         "2021-05-03"
        ],
        [
         "ELE-CAM-10016234",
         "2022-10-18"
        ],
        [
         "FUR-SOF-10016578",
         "2021-04-06"
        ],
        [
         "ELE-LAP-10000457",
         "2021-10-05"
        ],
        [
         "OFF-NOT-10009456",
         "2022-09-09"
        ],
        [
         "FUR-TAB-10007890",
         "2022-04-03"
        ],
        [
         "OFF-STP-10004040",
         "2023-10-08"
        ],
        [
         "FUR-CHA-10002222",
         "2021-08-17"
        ],
        [
         "ELE-ACC-10019567",
         "2023-05-29"
        ],
        [
         "ELE-TAB-10017689",
         "2021-06-25"
        ],
        [
         "OFF-NOT-10031890",
         "2023-02-13"
        ],
        [
         "OFF-TAP-10002828",
         "2021-02-15"
        ],
        [
         "OFF-SCI-10000467",
         "2023-12-11"
        ],
        [
         "ELE-PRI-10002727",
         "2024-01-09"
        ],
        [
         "OFF-MAR-10000470",
         "2021-09-20"
        ],
        [
         "ELE-MON-10000472",
         "2022-02-25"
        ],
        [
         "OFF-ENV-10000473",
         "2022-05-11"
        ],
        [
         "ELE-HEA-10000493",
         "2023-07-18"
        ],
        [
         "OFF-RUL-10000479",
         "2023-08-14"
        ],
        [
         "ELE-HEA-10000460",
         "2022-06-14"
        ],
        [
         "FUR-BED-10000471",
         "2021-11-12"
        ],
        [
         "FUR-TAB-10030789",
         "2022-09-15"
        ],
        [
         "FUR-TAB-10000459",
         "2022-04-03"
        ],
        [
         "ELE-LAP-10003636",
         "2022-11-30"
        ],
        [
         "OFF-NOT-10032012",
         "2023-02-13"
        ],
        [
         "FUR-BED-10001717",
         "2021-11-12"
        ],
        [
         "FUR-CHA-10023012",
         "2021-05-03"
        ],
        [
         "OFF-NOT-10007890",
         "2022-09-09"
        ],
        [
         "OFF-RUL-10002525",
         "2023-08-14"
        ],
        [
         "FUR-CH-10000454",
         "2021-03-10"
        ],
        [
         "ELE-SMA-10000487",
         "2022-04-10"
        ],
        [
         "OFF-SCI-10009456",
         "2023-12-11"
        ],
        [
         "OFF-STP-10001010",
         "2023-04-21"
        ],
        [
         "OFF-STP-10012456",
         "2023-04-21"
        ],
        [
         "ELE-TAB-10001515",
         "2021-06-25"
        ],
        [
         "ELE-SPE-10003030",
         "2021-07-18"
        ],
        [
         "FUR-CHA-10000456",
         "2021-08-17"
        ],
        [
         "OFF-PAP-10000455",
         "2021-05-22"
        ],
        [
         "ELE-LAP-10003333",
         "2021-10-05"
        ],
        [
         "OFF-SCI-10001313",
         "2023-12-11"
        ],
        [
         "ELE-LAP-10004567",
         "2021-10-05"
        ],
        [
         "ELE-LAP-10030789",
         "2022-11-30"
        ],
        [
         "ELE-PRI-10021890",
         "2024-01-09"
        ],
        [
         "OFF-ENV-10014012",
         "2022-05-11"
        ],
        [
         "FUR-BOO-10032901",
         "2023-04-28"
        ],
        [
         "FUR-SOF-10000468",
         "2021-04-06"
        ],
        [
         "ELE-CAM-10002121",
         "2022-10-18"
        ],
        [
         "ELE-MON-10013901",
         "2022-02-25"
        ],
        [
         "ELE-HEA-10006789",
         "2022-06-14"
        ],
        [
         "FUR-OUT-10000477",
         "2023-03-17"
        ],
        [
         "FUR-DES-10009234",
         "2023-07-15"
        ],
        [
         "FUR-LIG-10000480",
         "2023-10-28"
        ],
        [
         "OFF-ERA-10025234",
         "2021-10-11"
        ],
        [
         "FUR-OUT-10017456",
         "2023-03-17"
        ],
        [
         "ELE-TAB-10010678",
         "2021-06-25"
        ],
        [
         "OFF-GLU-10017345",
         "2023-01-02"
        ],
        [
         "OFF-RUL-10020678",
         "2023-08-14"
        ],
        [
         "FUR-CHA-10024123",
         "2021-05-03"
        ],
        [
         "FUR-BOO-10003838",
         "2023-04-28"
        ],
        [
         "FUR-LIG-10021789",
         "2023-10-28"
        ],
        [
         "FUR-DES-10013567",
         "2023-07-15"
        ],
        [
         "FUR-STO-10015123",
         "2022-07-29"
        ],
        [
         "OFF-STAP-10000494",
         "2023-10-08"
        ],
        [
         "OFF-MAR-10001616",
         "2021-09-20"
        ],
        [
         "FUR-TAB-10003535",
         "2022-09-15"
        ],
        [
         "OFF-PEN-10003434",
         "2022-06-23"
        ],
        [
         "FUR-BOO-10033123",
         "2023-04-28"
        ],
        [
         "ELE-TAB-10000469",
         "2021-06-25"
        ],
        [
         "OFF-PAP-10001234",
         "2021-05-22"
        ],
        [
         "FUR-STO-10000474",
         "2022-07-29"
        ],
        [
         "ELE-SMA-10011234",
         "2023-02-08"
        ],
        [
         "FUR-OUT-10002323",
         "2023-03-17"
        ],
        [
         "ELE-HEA-10003939",
         "2023-07-18"
        ],
        [
         "ELE-PRI-10000466",
         "2023-09-30"
        ]
       ],
       "datasetInfos": [],
       "dbfsResultPath": null,
       "isJsonSchema": true,
       "metadata": {},
       "overflow": false,
       "plotOptions": {
        "customPlotOptions": {},
        "displayType": "table",
        "pivotAggregation": null,
        "pivotColumns": null,
        "xColumns": null,
        "yColumns": null
       },
       "removedWidgets": [],
       "schema": [
        {
         "metadata": "{}",
         "name": "Product_Reference",
         "type": "\"string\""
        },
        {
         "metadata": "{}",
         "name": "Latest_orderDate",
         "type": "\"date\""
        }
       ],
       "type": "table"
      }
     },
     "output_type": "display_data"
    }
   ],
   "source": [
    "%sql select Product_Reference,max(Order_Date) as Latest_orderDate from a_df\n",
    "group by 1"
   ]
  },
  {
   "cell_type": "code",
   "execution_count": 0,
   "metadata": {
    "application/vnd.databricks.v1+cell": {
     "cellMetadata": {
      "byteLimit": 2048000,
      "rowLimit": 10000
     },
     "inputWidgets": {},
     "nuid": "a5947514-ba70-4e23-8f63-c2412988aa81",
     "showTitle": false,
     "title": ""
    }
   },
   "outputs": [
    {
     "output_type": "stream",
     "name": "stdout",
     "output_type": "stream",
     "text": [
      "+----------+-----------+--------------------+\n|Order_Date|Order_Month|Rolling_Sum_By_Month|\n+----------+-----------+--------------------+\n|2021-02-15|February   |25                  |\n|2021-03-10|March      |3000                |\n|2021-04-06|April      |4200                |\n|2021-05-03|May        |1000                |\n|2021-05-22|May        |600                 |\n+----------+-----------+--------------------+\nonly showing top 5 rows\n\n"
     ]
    }
   ],
   "source": [
    "# Question: Calculate the cumulative sales for each month, ordered by Order_Date.\n",
    "a_df=df.select(\"Order_Date\",\"Order_Month\",\"Sales\").withColumn(\"Rolling_Sum_By_Month\",sum(col(\"Sales\")).over(Window.partitionBy(df.Order_Date,df.Order_Month).orderBy(df.Order_Date.asc()))).drop(\"Sales\").distinct()\n",
    "a_df.show(5,False)"
   ]
  },
  {
   "cell_type": "code",
   "execution_count": 0,
   "metadata": {
    "application/vnd.databricks.v1+cell": {
     "cellMetadata": {
      "byteLimit": 2048000,
      "implicitDf": true,
      "rowLimit": 10000
     },
     "inputWidgets": {},
     "nuid": "740b2072-70c9-4adb-b17e-09bff5efb7fd",
     "showTitle": false,
     "title": ""
    }
   },
   "outputs": [
    {
     "output_type": "display_data",
     "data": {
      "text/html": [
       "<style scoped>\n",
       "  .table-result-container {\n",
       "    max-height: 300px;\n",
       "    overflow: auto;\n",
       "  }\n",
       "  table, th, td {\n",
       "    border: 1px solid black;\n",
       "    border-collapse: collapse;\n",
       "  }\n",
       "  th, td {\n",
       "    padding: 5px;\n",
       "  }\n",
       "  th {\n",
       "    text-align: left;\n",
       "  }\n",
       "</style><div class='table-result-container'><table class='table-result'><thead style='background-color: white'><tr><th>Order_Date</th><th>Order_Month</th><th>Rolling_Sum_By_Month</th></tr></thead><tbody><tr><td>2021-02-15</td><td>February</td><td>25</td></tr><tr><td>2021-03-10</td><td>March</td><td>3000</td></tr><tr><td>2021-04-06</td><td>April</td><td>4200</td></tr><tr><td>2021-05-03</td><td>May</td><td>1000</td></tr><tr><td>2021-05-22</td><td>May</td><td>600</td></tr><tr><td>2021-06-25</td><td>June</td><td>2700</td></tr><tr><td>2021-07-18</td><td>July</td><td>600</td></tr><tr><td>2021-08-17</td><td>August</td><td>1800</td></tr><tr><td>2021-09-20</td><td>September</td><td>120</td></tr><tr><td>2021-10-05</td><td>October</td><td>4800</td></tr><tr><td>2021-10-11</td><td>October</td><td>60</td></tr><tr><td>2021-11-12</td><td>November</td><td>5400</td></tr><tr><td>2022-01-18</td><td>January</td><td>300</td></tr><tr><td>2022-01-24</td><td>January</td><td>2250</td></tr><tr><td>2022-02-25</td><td>February</td><td>2100</td></tr><tr><td>2022-04-03</td><td>April</td><td>2400</td></tr><tr><td>2022-04-10</td><td>April</td><td>2800</td></tr><tr><td>2022-05-11</td><td>May</td><td>75</td></tr><tr><td>2022-06-14</td><td>June</td><td>900</td></tr><tr><td>2022-06-23</td><td>June</td><td>60</td></tr><tr><td>2022-07-29</td><td>July</td><td>1250</td></tr><tr><td>2022-09-09</td><td>September</td><td>720</td></tr><tr><td>2022-09-15</td><td>September</td><td>1200</td></tr><tr><td>2022-10-18</td><td>October</td><td>3000</td></tr><tr><td>2022-11-27</td><td>November</td><td>3600</td></tr><tr><td>2022-11-30</td><td>November</td><td>3400</td></tr><tr><td>2023-01-02</td><td>January</td><td>50</td></tr><tr><td>2023-02-08</td><td>February</td><td>1200</td></tr><tr><td>2023-02-13</td><td>February</td><td>400</td></tr><tr><td>2023-03-17</td><td>March</td><td>2750</td></tr><tr><td>2023-04-21</td><td>April</td><td>180</td></tr><tr><td>2023-04-28</td><td>April</td><td>2200</td></tr><tr><td>2023-05-29</td><td>May</td><td>500</td></tr><tr><td>2023-07-15</td><td>July</td><td>2100</td></tr><tr><td>2023-07-18</td><td>July</td><td>720</td></tr><tr><td>2023-08-14</td><td>August</td><td>40</td></tr><tr><td>2023-09-30</td><td>September</td><td>1680</td></tr><tr><td>2023-10-08</td><td>October</td><td>100</td></tr><tr><td>2023-10-28</td><td>October</td><td>900</td></tr><tr><td>2023-12-11</td><td>December</td><td>150</td></tr><tr><td>2024-01-09</td><td>January</td><td>1500</td></tr></tbody></table></div>"
      ]
     },
     "metadata": {
      "application/vnd.databricks.v1+output": {
       "addedWidgets": {},
       "aggData": [],
       "aggError": "",
       "aggOverflow": false,
       "aggSchema": [],
       "aggSeriesLimitReached": false,
       "aggType": "",
       "arguments": {},
       "columnCustomDisplayInfos": {},
       "data": [
        [
         "2021-02-15",
         "February",
         25
        ],
        [
         "2021-03-10",
         "March",
         3000
        ],
        [
         "2021-04-06",
         "April",
         4200
        ],
        [
         "2021-05-03",
         "May",
         1000
        ],
        [
         "2021-05-22",
         "May",
         600
        ],
        [
         "2021-06-25",
         "June",
         2700
        ],
        [
         "2021-07-18",
         "July",
         600
        ],
        [
         "2021-08-17",
         "August",
         1800
        ],
        [
         "2021-09-20",
         "September",
         120
        ],
        [
         "2021-10-05",
         "October",
         4800
        ],
        [
         "2021-10-11",
         "October",
         60
        ],
        [
         "2021-11-12",
         "November",
         5400
        ],
        [
         "2022-01-18",
         "January",
         300
        ],
        [
         "2022-01-24",
         "January",
         2250
        ],
        [
         "2022-02-25",
         "February",
         2100
        ],
        [
         "2022-04-03",
         "April",
         2400
        ],
        [
         "2022-04-10",
         "April",
         2800
        ],
        [
         "2022-05-11",
         "May",
         75
        ],
        [
         "2022-06-14",
         "June",
         900
        ],
        [
         "2022-06-23",
         "June",
         60
        ],
        [
         "2022-07-29",
         "July",
         1250
        ],
        [
         "2022-09-09",
         "September",
         720
        ],
        [
         "2022-09-15",
         "September",
         1200
        ],
        [
         "2022-10-18",
         "October",
         3000
        ],
        [
         "2022-11-27",
         "November",
         3600
        ],
        [
         "2022-11-30",
         "November",
         3400
        ],
        [
         "2023-01-02",
         "January",
         50
        ],
        [
         "2023-02-08",
         "February",
         1200
        ],
        [
         "2023-02-13",
         "February",
         400
        ],
        [
         "2023-03-17",
         "March",
         2750
        ],
        [
         "2023-04-21",
         "April",
         180
        ],
        [
         "2023-04-28",
         "April",
         2200
        ],
        [
         "2023-05-29",
         "May",
         500
        ],
        [
         "2023-07-15",
         "July",
         2100
        ],
        [
         "2023-07-18",
         "July",
         720
        ],
        [
         "2023-08-14",
         "August",
         40
        ],
        [
         "2023-09-30",
         "September",
         1680
        ],
        [
         "2023-10-08",
         "October",
         100
        ],
        [
         "2023-10-28",
         "October",
         900
        ],
        [
         "2023-12-11",
         "December",
         150
        ],
        [
         "2024-01-09",
         "January",
         1500
        ]
       ],
       "datasetInfos": [],
       "dbfsResultPath": null,
       "isJsonSchema": true,
       "metadata": {},
       "overflow": false,
       "plotOptions": {
        "customPlotOptions": {},
        "displayType": "table",
        "pivotAggregation": null,
        "pivotColumns": null,
        "xColumns": null,
        "yColumns": null
       },
       "removedWidgets": [],
       "schema": [
        {
         "metadata": "{\"__detected_date_formats\":\"yyyy-M-d\"}",
         "name": "Order_Date",
         "type": "\"date\""
        },
        {
         "metadata": "{}",
         "name": "Order_Month",
         "type": "\"string\""
        },
        {
         "metadata": "{}",
         "name": "Rolling_Sum_By_Month",
         "type": "\"long\""
        }
       ],
       "type": "table"
      }
     },
     "output_type": "display_data"
    }
   ],
   "source": [
    "%sql select distinct Order_Date,Order_Month,sum(Sales) over(partition by order_date,Order_Month order by order_Date Asc) Rolling_Sum_By_Month from a_df"
   ]
  },
  {
   "cell_type": "code",
   "execution_count": 0,
   "metadata": {
    "application/vnd.databricks.v1+cell": {
     "cellMetadata": {
      "byteLimit": 2048000,
      "rowLimit": 10000
     },
     "inputWidgets": {},
     "nuid": "46533a8e-668b-4b68-9ab3-bab08fdf8030",
     "showTitle": false,
     "title": ""
    }
   },
   "outputs": [
    {
     "output_type": "stream",
     "name": "stdout",
     "output_type": "stream",
     "text": [
      "+----------+-----------+-------------------+\n|Order_Date|Order_Month|Avg_Sales_Per_Month|\n+----------+-----------+-------------------+\n|2021-04-06|April      |700.0              |\n|2023-07-18|July       |180.0              |\n|2023-04-21|April      |30.0               |\n|2022-06-14|June       |150.0              |\n|2021-05-03|May        |200.0              |\n+----------+-----------+-------------------+\nonly showing top 5 rows\n\n"
     ]
    }
   ],
   "source": [
    "# Question: Determine the average sales for each month and identify any seasonal trends.\n",
    "a_df=df.select(\"Order_Date\",\"Order_Month\",\"Sales\").groupBy(df.Order_Date,df.Order_Month).agg(avg(col(\"Sales\")).alias(\"Avg_Sales_Per_Month\"))\n",
    "a_df.show(5,False)"
   ]
  },
  {
   "cell_type": "code",
   "execution_count": 0,
   "metadata": {
    "application/vnd.databricks.v1+cell": {
     "cellMetadata": {
      "byteLimit": 2048000,
      "implicitDf": true,
      "rowLimit": 10000
     },
     "inputWidgets": {},
     "nuid": "1aab3ee0-64f6-4424-9189-1fe4f0981292",
     "showTitle": false,
     "title": ""
    }
   },
   "outputs": [
    {
     "output_type": "display_data",
     "data": {
      "text/html": [
       "<style scoped>\n",
       "  .table-result-container {\n",
       "    max-height: 300px;\n",
       "    overflow: auto;\n",
       "  }\n",
       "  table, th, td {\n",
       "    border: 1px solid black;\n",
       "    border-collapse: collapse;\n",
       "  }\n",
       "  th, td {\n",
       "    padding: 5px;\n",
       "  }\n",
       "  th {\n",
       "    text-align: left;\n",
       "  }\n",
       "</style><div class='table-result-container'><table class='table-result'><thead style='background-color: white'><tr><th>Order_Date</th><th>Order_Month</th><th>Avg_Sales_Per_Month</th></tr></thead><tbody><tr><td>2021-04-06</td><td>April</td><td>700.0</td></tr><tr><td>2023-07-18</td><td>July</td><td>180.0</td></tr><tr><td>2023-04-21</td><td>April</td><td>30.0</td></tr><tr><td>2022-06-14</td><td>June</td><td>150.0</td></tr><tr><td>2021-05-03</td><td>May</td><td>200.0</td></tr><tr><td>2021-10-05</td><td>October</td><td>800.0</td></tr><tr><td>2023-07-15</td><td>July</td><td>350.0</td></tr><tr><td>2022-11-27</td><td>November</td><td>600.0</td></tr><tr><td>2021-11-12</td><td>November</td><td>900.0</td></tr><tr><td>2022-10-18</td><td>October</td><td>600.0</td></tr><tr><td>2022-07-29</td><td>July</td><td>250.0</td></tr><tr><td>2023-03-17</td><td>March</td><td>550.0</td></tr><tr><td>2023-10-28</td><td>October</td><td>180.0</td></tr><tr><td>2021-02-15</td><td>February</td><td>5.0</td></tr><tr><td>2022-01-18</td><td>January</td><td>50.0</td></tr><tr><td>2022-11-30</td><td>November</td><td>850.0</td></tr><tr><td>2023-05-29</td><td>May</td><td>100.0</td></tr><tr><td>2022-05-11</td><td>May</td><td>15.0</td></tr><tr><td>2022-02-25</td><td>February</td><td>350.0</td></tr><tr><td>2021-09-20</td><td>September</td><td>20.0</td></tr><tr><td>2023-02-08</td><td>February</td><td>200.0</td></tr><tr><td>2022-04-10</td><td>April</td><td>700.0</td></tr><tr><td>2024-01-09</td><td>January</td><td>300.0</td></tr><tr><td>2023-10-08</td><td>October</td><td>25.0</td></tr><tr><td>2022-04-03</td><td>April</td><td>400.0</td></tr><tr><td>2023-01-02</td><td>January</td><td>10.0</td></tr><tr><td>2021-05-22</td><td>May</td><td>100.0</td></tr><tr><td>2023-08-14</td><td>August</td><td>8.0</td></tr><tr><td>2022-09-09</td><td>September</td><td>120.0</td></tr><tr><td>2021-07-18</td><td>July</td><td>120.0</td></tr><tr><td>2023-09-30</td><td>September</td><td>280.0</td></tr><tr><td>2023-12-11</td><td>December</td><td>25.0</td></tr><tr><td>2021-08-17</td><td>August</td><td>300.0</td></tr><tr><td>2021-10-11</td><td>October</td><td>12.0</td></tr><tr><td>2023-04-28</td><td>April</td><td>550.0</td></tr><tr><td>2022-09-15</td><td>September</td><td>300.0</td></tr><tr><td>2022-01-24</td><td>January</td><td>450.0</td></tr><tr><td>2023-02-13</td><td>February</td><td>100.0</td></tr><tr><td>2021-03-10</td><td>March</td><td>500.0</td></tr><tr><td>2022-06-23</td><td>June</td><td>15.0</td></tr><tr><td>2021-06-25</td><td>June</td><td>450.0</td></tr></tbody></table></div>"
      ]
     },
     "metadata": {
      "application/vnd.databricks.v1+output": {
       "addedWidgets": {},
       "aggData": [],
       "aggError": "",
       "aggOverflow": false,
       "aggSchema": [],
       "aggSeriesLimitReached": false,
       "aggType": "",
       "arguments": {},
       "columnCustomDisplayInfos": {},
       "data": [
        [
         "2021-04-06",
         "April",
         700.0
        ],
        [
         "2023-07-18",
         "July",
         180.0
        ],
        [
         "2023-04-21",
         "April",
         30.0
        ],
        [
         "2022-06-14",
         "June",
         150.0
        ],
        [
         "2021-05-03",
         "May",
         200.0
        ],
        [
         "2021-10-05",
         "October",
         800.0
        ],
        [
         "2023-07-15",
         "July",
         350.0
        ],
        [
         "2022-11-27",
         "November",
         600.0
        ],
        [
         "2021-11-12",
         "November",
         900.0
        ],
        [
         "2022-10-18",
         "October",
         600.0
        ],
        [
         "2022-07-29",
         "July",
         250.0
        ],
        [
         "2023-03-17",
         "March",
         550.0
        ],
        [
         "2023-10-28",
         "October",
         180.0
        ],
        [
         "2021-02-15",
         "February",
         5.0
        ],
        [
         "2022-01-18",
         "January",
         50.0
        ],
        [
         "2022-11-30",
         "November",
         850.0
        ],
        [
         "2023-05-29",
         "May",
         100.0
        ],
        [
         "2022-05-11",
         "May",
         15.0
        ],
        [
         "2022-02-25",
         "February",
         350.0
        ],
        [
         "2021-09-20",
         "September",
         20.0
        ],
        [
         "2023-02-08",
         "February",
         200.0
        ],
        [
         "2022-04-10",
         "April",
         700.0
        ],
        [
         "2024-01-09",
         "January",
         300.0
        ],
        [
         "2023-10-08",
         "October",
         25.0
        ],
        [
         "2022-04-03",
         "April",
         400.0
        ],
        [
         "2023-01-02",
         "January",
         10.0
        ],
        [
         "2021-05-22",
         "May",
         100.0
        ],
        [
         "2023-08-14",
         "August",
         8.0
        ],
        [
         "2022-09-09",
         "September",
         120.0
        ],
        [
         "2021-07-18",
         "July",
         120.0
        ],
        [
         "2023-09-30",
         "September",
         280.0
        ],
        [
         "2023-12-11",
         "December",
         25.0
        ],
        [
         "2021-08-17",
         "August",
         300.0
        ],
        [
         "2021-10-11",
         "October",
         12.0
        ],
        [
         "2023-04-28",
         "April",
         550.0
        ],
        [
         "2022-09-15",
         "September",
         300.0
        ],
        [
         "2022-01-24",
         "January",
         450.0
        ],
        [
         "2023-02-13",
         "February",
         100.0
        ],
        [
         "2021-03-10",
         "March",
         500.0
        ],
        [
         "2022-06-23",
         "June",
         15.0
        ],
        [
         "2021-06-25",
         "June",
         450.0
        ]
       ],
       "datasetInfos": [],
       "dbfsResultPath": null,
       "isJsonSchema": true,
       "metadata": {},
       "overflow": false,
       "plotOptions": {
        "customPlotOptions": {},
        "displayType": "table",
        "pivotAggregation": null,
        "pivotColumns": null,
        "xColumns": null,
        "yColumns": null
       },
       "removedWidgets": [],
       "schema": [
        {
         "metadata": "{\"__detected_date_formats\":\"yyyy-M-d\"}",
         "name": "Order_Date",
         "type": "\"date\""
        },
        {
         "metadata": "{}",
         "name": "Order_Month",
         "type": "\"string\""
        },
        {
         "metadata": "{}",
         "name": "Avg_Sales_Per_Month",
         "type": "\"double\""
        }
       ],
       "type": "table"
      }
     },
     "output_type": "display_data"
    }
   ],
   "source": [
    "%sql select Order_Date,Order_Month,avg(Sales) Avg_Sales_Per_Month from a_df \n",
    "group by 1,2"
   ]
  },
  {
   "cell_type": "code",
   "execution_count": 0,
   "metadata": {
    "application/vnd.databricks.v1+cell": {
     "cellMetadata": {
      "byteLimit": 2048000,
      "rowLimit": 10000
     },
     "inputWidgets": {},
     "nuid": "bd91ebb3-ce4a-4573-ba38-742bdaf30fa2",
     "showTitle": false,
     "title": ""
    }
   },
   "outputs": [
    {
     "output_type": "stream",
     "name": "stdout",
     "output_type": "stream",
     "text": [
      "+-----+-------------------+\n|State|Highest_Order_Value|\n+-----+-------------------+\n|DC   |2100               |\n|CA   |900                |\n|IL   |1650               |\n|WA   |450                |\n|OH   |2400               |\n+-----+-------------------+\nonly showing top 5 rows\n\n"
     ]
    }
   ],
   "source": [
    "# Question: Find products (based on State) with the highest cumulative order values.\n",
    "a_df=df.select(\"Sub_Category\",\"State\",\"Order_Value\").groupBy(col(\"State\")).agg(max(col(\"Order_Value\")).alias(\"Highest_Order_Value\"))\n",
    "a_df.show(5,False)"
   ]
  },
  {
   "cell_type": "code",
   "execution_count": 0,
   "metadata": {
    "application/vnd.databricks.v1+cell": {
     "cellMetadata": {
      "byteLimit": 2048000,
      "implicitDf": true,
      "rowLimit": 10000
     },
     "inputWidgets": {},
     "nuid": "bac9cdef-40a2-460d-9d1c-bc8fa26e83f7",
     "showTitle": false,
     "title": ""
    }
   },
   "outputs": [
    {
     "output_type": "display_data",
     "data": {
      "text/html": [
       "<style scoped>\n",
       "  .table-result-container {\n",
       "    max-height: 300px;\n",
       "    overflow: auto;\n",
       "  }\n",
       "  table, th, td {\n",
       "    border: 1px solid black;\n",
       "    border-collapse: collapse;\n",
       "  }\n",
       "  th, td {\n",
       "    padding: 5px;\n",
       "  }\n",
       "  th {\n",
       "    text-align: left;\n",
       "  }\n",
       "</style><div class='table-result-container'><table class='table-result'><thead style='background-color: white'><tr><th>State</th><th>max(Order_Value)</th></tr></thead><tbody><tr><td>DC</td><td>2100</td></tr><tr><td>CA</td><td>900</td></tr><tr><td>IL</td><td>1650</td></tr><tr><td>WA</td><td>450</td></tr><tr><td>OH</td><td>2400</td></tr><tr><td>TX</td><td>3600</td></tr><tr><td>GA</td><td>3400</td></tr><tr><td>FL</td><td>2100</td></tr><tr><td>UT</td><td>900</td></tr></tbody></table></div>"
      ]
     },
     "metadata": {
      "application/vnd.databricks.v1+output": {
       "addedWidgets": {},
       "aggData": [],
       "aggError": "",
       "aggOverflow": false,
       "aggSchema": [],
       "aggSeriesLimitReached": false,
       "aggType": "",
       "arguments": {},
       "columnCustomDisplayInfos": {},
       "data": [
        [
         "DC",
         2100
        ],
        [
         "CA",
         900
        ],
        [
         "IL",
         1650
        ],
        [
         "WA",
         450
        ],
        [
         "OH",
         2400
        ],
        [
         "TX",
         3600
        ],
        [
         "GA",
         3400
        ],
        [
         "FL",
         2100
        ],
        [
         "UT",
         900
        ]
       ],
       "datasetInfos": [],
       "dbfsResultPath": null,
       "isJsonSchema": true,
       "metadata": {},
       "overflow": false,
       "plotOptions": {
        "customPlotOptions": {},
        "displayType": "table",
        "pivotAggregation": null,
        "pivotColumns": null,
        "xColumns": null,
        "yColumns": null
       },
       "removedWidgets": [],
       "schema": [
        {
         "metadata": "{}",
         "name": "State",
         "type": "\"string\""
        },
        {
         "metadata": "{\"__autoGeneratedAlias\":\"true\"}",
         "name": "max(Order_Value)",
         "type": "\"integer\""
        }
       ],
       "type": "table"
      }
     },
     "output_type": "display_data"
    }
   ],
   "source": [
    "%sql select State,max(Order_Value) from a_df\n",
    "group by 1"
   ]
  },
  {
   "cell_type": "code",
   "execution_count": 0,
   "metadata": {
    "application/vnd.databricks.v1+cell": {
     "cellMetadata": {
      "byteLimit": 2048000,
      "rowLimit": 10000
     },
     "inputWidgets": {},
     "nuid": "13136778-6c28-41f0-a270-f531b19090a7",
     "showTitle": false,
     "title": ""
    }
   },
   "outputs": [
    {
     "output_type": "stream",
     "name": "stdout",
     "output_type": "stream",
     "text": [
      "+---------+--------------+\n|Ship_Mode|Preffered_mode|\n+---------+--------------+\n|Air      |110           |\n|Ground   |106           |\n+---------+--------------+\n\n"
     ]
    }
   ],
   "source": [
    "# Question: Analyze and identify what mode is the most prefered way to transport.\n",
    "a_df=df.select(\"Ship_Mode\",\"Order_Priority\").groupBy(col(\"Ship_Mode\")).agg(count(col(\"Order_Priority\")).alias(\"Preffered_mode\"))\n",
    "a_df.show(5,False)"
   ]
  },
  {
   "cell_type": "code",
   "execution_count": 0,
   "metadata": {
    "application/vnd.databricks.v1+cell": {
     "cellMetadata": {
      "byteLimit": 2048000,
      "implicitDf": true,
      "rowLimit": 10000
     },
     "inputWidgets": {},
     "nuid": "039e3ff5-7606-4567-b95d-5c9f3eeb6cde",
     "showTitle": false,
     "title": ""
    }
   },
   "outputs": [
    {
     "output_type": "display_data",
     "data": {
      "text/html": [
       "<style scoped>\n",
       "  .table-result-container {\n",
       "    max-height: 300px;\n",
       "    overflow: auto;\n",
       "  }\n",
       "  table, th, td {\n",
       "    border: 1px solid black;\n",
       "    border-collapse: collapse;\n",
       "  }\n",
       "  th, td {\n",
       "    padding: 5px;\n",
       "  }\n",
       "  th {\n",
       "    text-align: left;\n",
       "  }\n",
       "</style><div class='table-result-container'><table class='table-result'><thead style='background-color: white'><tr><th>Ship_Mode</th><th>Preffered_mode</th></tr></thead><tbody><tr><td>Air</td><td>110</td></tr><tr><td>Ground</td><td>106</td></tr></tbody></table></div>"
      ]
     },
     "metadata": {
      "application/vnd.databricks.v1+output": {
       "addedWidgets": {},
       "aggData": [],
       "aggError": "",
       "aggOverflow": false,
       "aggSchema": [],
       "aggSeriesLimitReached": false,
       "aggType": "",
       "arguments": {},
       "columnCustomDisplayInfos": {},
       "data": [
        [
         "Air",
         110
        ],
        [
         "Ground",
         106
        ]
       ],
       "datasetInfos": [],
       "dbfsResultPath": null,
       "isJsonSchema": true,
       "metadata": {},
       "overflow": false,
       "plotOptions": {
        "customPlotOptions": {},
        "displayType": "table",
        "pivotAggregation": null,
        "pivotColumns": null,
        "xColumns": null,
        "yColumns": null
       },
       "removedWidgets": [],
       "schema": [
        {
         "metadata": "{}",
         "name": "Ship_Mode",
         "type": "\"string\""
        },
        {
         "metadata": "{}",
         "name": "Preffered_mode",
         "type": "\"long\""
        }
       ],
       "type": "table"
      }
     },
     "output_type": "display_data"
    }
   ],
   "source": [
    "%sql select Ship_Mode,count(Order_Priority) Preffered_mode from a_df\n",
    "group by 1"
   ]
  },
  {
   "cell_type": "markdown",
   "metadata": {
    "application/vnd.databricks.v1+cell": {
     "cellMetadata": {
      "byteLimit": 2048000,
      "rowLimit": 10000
     },
     "inputWidgets": {},
     "nuid": "b26e66df-0202-46be-92a4-9345a2f1f239",
     "showTitle": false,
     "title": ""
    }
   },
   "source": [
    "#only Pyspark"
   ]
  },
  {
   "cell_type": "code",
   "execution_count": 0,
   "metadata": {
    "application/vnd.databricks.v1+cell": {
     "cellMetadata": {
      "byteLimit": 2048000,
      "rowLimit": 10000
     },
     "inputWidgets": {},
     "nuid": "4ac02ddf-8b02-403b-b59d-89115db2ad56",
     "showTitle": false,
     "title": ""
    }
   },
   "outputs": [
    {
     "output_type": "stream",
     "name": "stdout",
     "output_type": "stream",
     "text": [
      "+------------+\n|Sub_Category|\n+------------+\n+------------+\n\n"
     ]
    }
   ],
   "source": [
    "# Question: Identify products where the profit margin has been decreasing over time.\n",
    "a_df=df.select(\"Order_Date\",\"Sub_Category\",\"Profit_Margin\").withColumn(\"Lag\",lag(\"Profit_Margin\").over(Window.partitionBy(col(\"Sub_Category\")).orderBy(col(\"Order_Date\").asc())))\n",
    "a_df=a_df.select(\"Sub_Category\").filter((col(\"Profit_Margin\")>col(\"Lag\")))\n",
    "a_df.show(5,False)"
   ]
  },
  {
   "cell_type": "code",
   "execution_count": 0,
   "metadata": {
    "application/vnd.databricks.v1+cell": {
     "cellMetadata": {
      "byteLimit": 2048000,
      "rowLimit": 10000
     },
     "inputWidgets": {},
     "nuid": "94541867-a6af-4916-86d1-808a7c7dbe91",
     "showTitle": false,
     "title": ""
    }
   },
   "outputs": [
    {
     "output_type": "stream",
     "name": "stdout",
     "output_type": "stream",
     "text": [
      "+------+----------------+\n|Region|Profit_By_Region|\n+------+----------------+\n|South |2.08            |\n|East  |2.2             |\n|West  |2.17            |\n+------+----------------+\n\n"
     ]
    }
   ],
   "source": [
    "# Question: Calculate the average profit margin for each region.\n",
    "a_df=df.select(\"Region\",\"Profit_Margin\").groupBy(col(\"Region\")).agg(round(avg(col(\"Profit_Margin\")),2).alias(\"Profit_By_Region\"))\n",
    "a_df.show(5,False)"
   ]
  }
 ],
 "metadata": {
  "application/vnd.databricks.v1+notebook": {
   "dashboards": [],
   "language": "python",
   "notebookMetadata": {
    "mostRecentlyExecutedCommandWithImplicitDF": {
     "commandId": 57766251391547,
     "dataframes": [
      "_sqldf"
     ]
    },
    "pythonIndentUnit": 4
   },
   "notebookName": "Sales_Store",
   "widgets": {}
  }
 },
 "nbformat": 4,
 "nbformat_minor": 0
}
